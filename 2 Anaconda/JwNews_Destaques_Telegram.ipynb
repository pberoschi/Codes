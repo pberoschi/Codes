{
 "cells": [
  {
   "cell_type": "code",
   "execution_count": 12,
   "id": "d22fede0",
   "metadata": {},
   "outputs": [
    {
     "name": "stdout",
     "output_type": "stream",
     "text": [
      "set()\n",
      "\n",
      "\n",
      ">>> Fim do Script <<<\n"
     ]
    }
   ],
   "source": [
    "import csv\n",
    "import shutil\n",
    "import telepot\n",
    "\n",
    "import requests\n",
    "from bs4 import BeautifulSoup\n",
    "from time import sleep\n",
    "from selenium.webdriver.chrome.options import Options\n",
    "\n",
    "urljw = 'https://www.jw.org/pt/ultimos-artigos-destaque/'\n",
    "\n",
    "headers = {'User-Agent':'Mozilla/5.0 (Windows NT 10.0; Win64; x64) AppleWebKit/537.36 (KHTML, like Gecko) Chrome/90.0.4430.212 Safari/537.36'}\n",
    "r = requests.get(urljw, headers=headers)\n",
    "soup = BeautifulSoup(r.content, 'html.parser')\n",
    "\n",
    "main = soup.find_all(\"div\", {'class':'syn-body lss'})\n",
    "\n",
    "filename = \"newsJW.csv\"\n",
    "f =open(filename, \"w\")\n",
    "\n",
    "headers = \"Titulo;Descricao;Endereco\\n\"\n",
    "f.write(headers)\n",
    "\n",
    "titulo = []\n",
    "descricao = []\n",
    "link = []\n",
    "\n",
    "\n",
    "for item in main:\n",
    "    titulo = item.find('h3').text.strip()\n",
    "    descricao = item.find('p').text.strip()\n",
    "    link = 'www.jw.org' + item.find('a')['href']\n",
    "    \n",
    "    f.write(titulo + \";\" + descricao + \";\" + link + \"\\n\")\n",
    "    \n",
    "f.close()\n",
    "\n",
    "def compare():\n",
    "    s=open('newsJW.csv')\n",
    "    try:\n",
    "        o=open('newsJW2.csv')\n",
    "    except:\n",
    "        shutil.copy('newsJW.csv', 'newsJW2.csv')\n",
    "        o=open('newsJW2.csv')\n",
    "\n",
    "    csv_0 = csv.reader(s)\n",
    "    csv_1 = csv.reader(o)\n",
    "\n",
    "    list1= []\n",
    "    list2= []\n",
    "\n",
    "    for row in csv_0:\n",
    "        list1.append(row[0])\n",
    "\n",
    "    for row in csv_1:\n",
    "        list2.append(row[0])\n",
    "\n",
    "    diferenca = set(list1).difference(set(list2))\n",
    "    print(diferenca)\n",
    "    \n",
    "    if diferenca != '':\n",
    "        for item in diferenca:\n",
    "            item = str(item)\n",
    "            bot = telepot.Bot('1591788137:AAFXANf-i5DYCCFJMuEe5cCjP1X7-I1WwPM')\n",
    "            bot.sendMessage(984798692, item)\n",
    "            \n",
    "    s.close()\n",
    "    o.close()    \n",
    "    \n",
    "compare()\n",
    "shutil.copy('newsJW.csv', 'newsJW2.csv')\n",
    "print(f'\\n\\n>>> Fim do Script <<<')"
   ]
  },
  {
   "cell_type": "code",
   "execution_count": null,
   "id": "c3717742",
   "metadata": {},
   "outputs": [],
   "source": []
  },
  {
   "cell_type": "code",
   "execution_count": null,
   "id": "659ca4b6",
   "metadata": {},
   "outputs": [],
   "source": []
  },
  {
   "cell_type": "code",
   "execution_count": null,
   "id": "baa7c3bb",
   "metadata": {},
   "outputs": [],
   "source": []
  },
  {
   "cell_type": "code",
   "execution_count": null,
   "id": "091358d4",
   "metadata": {},
   "outputs": [],
   "source": []
  },
  {
   "cell_type": "code",
   "execution_count": null,
   "id": "0136298a",
   "metadata": {},
   "outputs": [],
   "source": []
  }
 ],
 "metadata": {
  "kernelspec": {
   "display_name": "Python 3",
   "language": "python",
   "name": "python3"
  },
  "language_info": {
   "codemirror_mode": {
    "name": "ipython",
    "version": 3
   },
   "file_extension": ".py",
   "mimetype": "text/x-python",
   "name": "python",
   "nbconvert_exporter": "python",
   "pygments_lexer": "ipython3",
   "version": "3.8.8"
  }
 },
 "nbformat": 4,
 "nbformat_minor": 5
}
