{
 "cells": [
  {
   "cell_type": "code",
   "execution_count": null,
   "id": "90e3fc7b",
   "metadata": {},
   "outputs": [],
   "source": [
    "import telebot\n",
    "\n",
    "CHAVE_API = \"1827005235:AAGr4ss18HkJo11QKjBYBG-TqnKLv79Ph6Q\"\n",
    "\n",
    "bot = telebot.TeleBot(CHAVE_API)\n",
    "\n",
    "\n",
    "\n",
    "@bot.message_handler(commands=[\"start\"])\n",
    "def say_hello(message):\n",
    "    chat_id = message.chat.id\n",
    "    bot.send_message(chat_id, \"Olá eu sou o HelloBot\")\n",
    "\n",
    "\n",
    "\n",
    "bot.polling()"
   ]
  },
  {
   "cell_type": "code",
   "execution_count": null,
   "id": "823d01c6",
   "metadata": {},
   "outputs": [
    {
     "name": "stdout",
     "output_type": "stream",
     "text": [
      "olá\n"
     ]
    }
   ],
   "source": [
    "import telepot\n",
    "bot = telepot.Bot(\"1827005235:AAGr4ss18HkJo11QKjBYBG-TqnKLv79Ph6Q\")\n",
    "bot.getUpdates()\n",
    "\n",
    "bot.sendMessage(984798692, 'Enviando messagem')\n",
    "\n",
    "def receiver(msg):\n",
    "    print(msg['text'])\n",
    "    #print(msg['username'])\n",
    "\n",
    "    \n",
    "bot.message_loop(receiver)\n",
    "\n",
    "while True:\n",
    "    pass"
   ]
  },
  {
   "cell_type": "code",
   "execution_count": null,
   "id": "132208a6",
   "metadata": {},
   "outputs": [],
   "source": []
  },
  {
   "cell_type": "code",
   "execution_count": null,
   "id": "648091ab",
   "metadata": {},
   "outputs": [],
   "source": []
  },
  {
   "cell_type": "code",
   "execution_count": null,
   "id": "fd5cc824",
   "metadata": {},
   "outputs": [],
   "source": []
  }
 ],
 "metadata": {
  "kernelspec": {
   "display_name": "Python 3",
   "language": "python",
   "name": "python3"
  },
  "language_info": {
   "codemirror_mode": {
    "name": "ipython",
    "version": 3
   },
   "file_extension": ".py",
   "mimetype": "text/x-python",
   "name": "python",
   "nbconvert_exporter": "python",
   "pygments_lexer": "ipython3",
   "version": "3.8.8"
  }
 },
 "nbformat": 4,
 "nbformat_minor": 5
}
