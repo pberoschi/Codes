{
 "cells": [
  {
   "cell_type": "code",
   "execution_count": 2,
   "id": "ee733ba3",
   "metadata": {
    "scrolled": true
   },
   "outputs": [
    {
     "name": "stdout",
     "output_type": "stream",
     "text": [
      "Requirement already satisfied: imutils in c:\\users\\johnny\\anaconda3\\lib\\site-packages (0.5.4)\n"
     ]
    }
   ],
   "source": [
    "!pip install imutils"
   ]
  },
  {
   "cell_type": "code",
   "execution_count": 13,
   "id": "cf12a5f9",
   "metadata": {},
   "outputs": [],
   "source": [
    "import cv2\n",
    "import imutils "
   ]
  },
  {
   "cell_type": "code",
   "execution_count": 31,
   "id": "f1f2eb3b",
   "metadata": {
    "scrolled": true
   },
   "outputs": [
    {
     "name": "stdout",
     "output_type": "stream",
     "text": [
      "[[255 255 255 ... 255 255 255]\n",
      " [255 255 255 ... 255 255 255]\n",
      " [255 255 255 ... 255 255 255]\n",
      " ...\n",
      " [255 255 255 ... 255 255 255]\n",
      " [255 255 255 ... 255 255 255]\n",
      " [255 255 255 ... 255 255 255]]\n",
      "[[255 255 255 ... 255 255 255]\n",
      " [255 255 255 ... 255 255 255]\n",
      " [255 255 255 ... 255 255 255]\n",
      " ...\n",
      " [255 255 255 ... 255 255 255]\n",
      " [255 255 255 ... 255 255 255]\n",
      " [255 255 255 ... 255 255 255]]\n"
     ]
    }
   ],
   "source": [
    "img_src = cv2.imread('maca1.png',0)\n",
    "img_src2 = cv2.imread('maca2.png',0)\n",
    "print(img_src)\n",
    "print(img_src2)"
   ]
  },
  {
   "cell_type": "code",
   "execution_count": 38,
   "id": "2b9dc1f0",
   "metadata": {},
   "outputs": [],
   "source": [
    "# Importing the module\n",
    "import cv2\n",
    "import imutils \n",
    "\n",
    "# Choose image\n",
    "original = cv2.imread(\"maca1.png\")\n",
    "\n",
    "# Display image\n",
    "cv2.imshow(\"Original\",  original)\n",
    "cv2.waitKey(0)\n",
    "cv2.destroyAllWindows()"
   ]
  },
  {
   "cell_type": "code",
   "execution_count": 12,
   "id": "6a480ef0",
   "metadata": {},
   "outputs": [],
   "source": [
    "import cv2\n",
    "import imutils\n",
    "\n",
    "# Choose image\n",
    "original = cv2.imread(\"maca1.png\")\n",
    "duplicate = cv2.imread(\"maca2.png\")\n",
    "\n",
    "# Store the image shape into variable\n",
    "ori_shape = original.shape[:2]\n",
    "dup_shape = duplicate.shape[:2]"
   ]
  },
  {
   "cell_type": "code",
   "execution_count": 13,
   "id": "c89d91d2",
   "metadata": {},
   "outputs": [
    {
     "name": "stdout",
     "output_type": "stream",
     "text": [
      "(300, 365)\n",
      "(300, 365)\n"
     ]
    }
   ],
   "source": [
    "print(ori_shape)\n",
    "print(dup_shape)"
   ]
  },
  {
   "cell_type": "code",
   "execution_count": 14,
   "id": "aff7f94e",
   "metadata": {},
   "outputs": [
    {
     "name": "stdout",
     "output_type": "stream",
     "text": [
      "Image size is same\n"
     ]
    }
   ],
   "source": [
    "# TEST 1: Based on shape of image\n",
    "if ori_shape == dup_shape:\n",
    "    print(\"Image size is same\")\n",
    "else:\n",
    "    print(\"Image is different in size\")"
   ]
  },
  {
   "cell_type": "code",
   "execution_count": null,
   "id": "64ea8423",
   "metadata": {},
   "outputs": [],
   "source": []
  },
  {
   "cell_type": "code",
   "execution_count": null,
   "id": "a282e866",
   "metadata": {},
   "outputs": [],
   "source": []
  },
  {
   "cell_type": "code",
   "execution_count": null,
   "id": "22a0112f",
   "metadata": {},
   "outputs": [],
   "source": []
  },
  {
   "cell_type": "code",
   "execution_count": null,
   "id": "3ef29271",
   "metadata": {},
   "outputs": [],
   "source": []
  },
  {
   "cell_type": "code",
   "execution_count": 7,
   "id": "969250fe",
   "metadata": {},
   "outputs": [],
   "source": [
    "cv2.imshow(\"Original\",ori_shape)\n",
    "cv2.waitKey()\n",
    "cv2.destroyAllWindows()"
   ]
  },
  {
   "cell_type": "code",
   "execution_count": null,
   "id": "ae0359e7",
   "metadata": {},
   "outputs": [],
   "source": []
  },
  {
   "cell_type": "code",
   "execution_count": null,
   "id": "234c65ad",
   "metadata": {},
   "outputs": [],
   "source": []
  },
  {
   "cell_type": "code",
   "execution_count": null,
   "id": "cf20e449",
   "metadata": {},
   "outputs": [],
   "source": []
  },
  {
   "cell_type": "code",
   "execution_count": 23,
   "id": "0f55e6e5",
   "metadata": {},
   "outputs": [
    {
     "name": "stdout",
     "output_type": "stream",
     "text": [
      "O Percentual de Similaridade Utilizando o ORB é:  0.6266666666666667\n"
     ]
    }
   ],
   "source": [
    "# importação módulo Opencv\n",
    "import cv2\n",
    "\n",
    "\n",
    "# Works well with images of different dimensions\n",
    "# Foi criando um função para recepcionar as duas imagens\n",
    "def orb_sim(img1, img2):\n",
    "\n",
    "    # Antigamente era utilizado o módulo SIFT, mas o mesmo foi descontinuado e o ORB passou ser utilizado\n",
    "    # possuindo mais recursos para trabalhar as imagens\n",
    "    orb = cv2.ORB_create()\n",
    "\n",
    "    # Esse é o ponto onde serão dectados pontos chaves e descritores das imagens\n",
    "    kp_a, desc_a = orb.detectAndCompute(img1, None)\n",
    "    kp_b, desc_b = orb.detectAndCompute(img2, None)\n",
    "\n",
    "    # Definir o objeto combinador de força bruta.\n",
    "    # Isso quer dizer que ele irá testar muitas combinações diferentes.\n",
    "    bf = cv2.BFMatcher(cv2.NORM_HAMMING, crossCheck=True)\n",
    "\n",
    "    # Nessa etapa será feito o match das imagens, ou seja, a combinação das imagens\n",
    "    matches = bf.match(desc_a, desc_b)\n",
    "\n",
    "    # Aqui será feito a procura por regiões similares das imagens com a distância menor que 50.\n",
    "    # É possível ajustar a distância entre 0 a 100, sendo 0 as imagens totalmente diferente e 100 as imagens iguais\n",
    "    # Nesse caso é escolhido a distância de 50.\n",
    "    similar_regions = [i for i in matches if i.distance < 50]\n",
    "    if len(matches) == 0:\n",
    "        return 0\n",
    "    return len(similar_regions) / len(matches)\n",
    "\n",
    "# Função do Opencv para fazer a leitura das imagens\n",
    "img00 = cv2.imread('Entrada Saidas_COMPRA.JPG', 0)\n",
    "img01 = cv2.imread('Entrada Saidas_VENDA.JPG', 0)\n",
    "\n",
    "# Função opencv para redimensionar as inmagens, pois se elas estivem em dimensões diferente dá erro no código\n",
    "img00Res = cv2.resize(img00, (1200, 600))\n",
    "img01Res = cv2.resize(img01, (1200, 600))\n",
    "\n",
    "# Essa é a etapa on é chamada a função criada no início do código passando como parâmetro as imagens redimensionadas.\n",
    "# Se o resultado for igual 1.0, quer dizer as imagens são extamente iguais.\n",
    "# Qualquer outro resultado que apresentar vai representar o percentual de similaridade entre as imagens.\n",
    "orb_similarity = orb_sim(img00Res, img01Res)\n",
    "print(\"O Percentual de Similaridade Utilizando o ORB é: \", orb_similarity)"
   ]
  },
  {
   "cell_type": "code",
   "execution_count": 22,
   "id": "4aed6a98",
   "metadata": {},
   "outputs": [
    {
     "name": "stdout",
     "output_type": "stream",
     "text": [
      "(300, 365)\n",
      "(522, 1316)\n"
     ]
    }
   ],
   "source": [
    "ori_shape = img00.shape[:2]\n",
    "dup_shape = img01.shape[:2]\n",
    "\n",
    "print(ori_shape)\n",
    "print(dup_shape)"
   ]
  },
  {
   "cell_type": "code",
   "execution_count": null,
   "id": "4f9086d8",
   "metadata": {},
   "outputs": [],
   "source": []
  }
 ],
 "metadata": {
  "kernelspec": {
   "display_name": "Python 3",
   "language": "python",
   "name": "python3"
  },
  "language_info": {
   "codemirror_mode": {
    "name": "ipython",
    "version": 3
   },
   "file_extension": ".py",
   "mimetype": "text/x-python",
   "name": "python",
   "nbconvert_exporter": "python",
   "pygments_lexer": "ipython3",
   "version": "3.8.8"
  }
 },
 "nbformat": 4,
 "nbformat_minor": 5
}
