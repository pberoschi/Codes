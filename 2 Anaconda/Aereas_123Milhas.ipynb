{
 "cells": [
  {
   "cell_type": "code",
   "execution_count": 1,
   "id": "2a2473b3",
   "metadata": {},
   "outputs": [
    {
     "ename": "ModuleNotFoundError",
     "evalue": "No module named 'requests'",
     "output_type": "error",
     "traceback": [
      "\u001b[1;31m---------------------------------------------------------------------------\u001b[0m",
      "\u001b[1;31mModuleNotFoundError\u001b[0m                       Traceback (most recent call last)",
      "Cell \u001b[1;32mIn[1], line 1\u001b[0m\n\u001b[1;32m----> 1\u001b[0m \u001b[38;5;28;01mimport\u001b[39;00m \u001b[38;5;21;01mrequests\u001b[39;00m\n\u001b[0;32m      2\u001b[0m \u001b[38;5;28;01mfrom\u001b[39;00m \u001b[38;5;21;01mbs4\u001b[39;00m \u001b[38;5;28;01mimport\u001b[39;00m BeautifulSoup\n\u001b[0;32m      3\u001b[0m \u001b[38;5;28;01mimport\u001b[39;00m \u001b[38;5;21;01mpandas\u001b[39;00m \u001b[38;5;28;01mas\u001b[39;00m \u001b[38;5;21;01mpd\u001b[39;00m\n",
      "\u001b[1;31mModuleNotFoundError\u001b[0m: No module named 'requests'"
     ]
    }
   ],
   "source": [
    "import requests\n",
    "from bs4 import BeautifulSoup\n",
    "import pandas as pd\n",
    "from selenium import webdriver\n",
    "from time import sleep\n",
    "from selenium.webdriver.chrome.options import Options\n",
    "\n",
    "#%config IPCompleter.greedy=True\n",
    "\n",
    "tempoBusca = 15\n",
    "\n",
    "option = Options()\n",
    "option.headless = True\n",
    "navegador = webdriver.Chrome()                       #NAVEGADOR ON\n",
    "#navegador = webdriver.Chrome(options=option)          #NAVEGADOR OFF\n",
    "print('ABRINDO NAVEGADOR E COLETANDO DADOS')\n",
    "navegador.get('https://123milhas.com/v2/busca?de=SAO&para=NYC&ida=01-12-2022&volta=14-12-2022&adultos=1&criancas=0&classe=3&search_id=697546534')\n",
    "sleep(1)\n"
   ]
  },
  {
   "cell_type": "code",
   "execution_count": null,
   "id": "2f4bf9f2",
   "metadata": {},
   "outputs": [],
   "source": [
    "navegador.find_element_by_xpath('//*[@id=\"searchResultGroup\"]/group-selector/div/div[1]/div/div/ordenation-card[2]/div/p[1]').click()\n",
    "sleep(1)"
   ]
  },
  {
   "cell_type": "code",
   "execution_count": null,
   "id": "b655aedc",
   "metadata": {},
   "outputs": [],
   "source": [
    "tabela = navegador.find_element_by_xpath('//*[@id=\"frmPriceGroup1\"]/div[2]')\n",
    "html_content = tabela.get_attribute('outerHTML')\n",
    "soup = BeautifulSoup(html_content, 'html.parser')"
   ]
  },
  {
   "cell_type": "code",
   "execution_count": null,
   "id": "0be189bd",
   "metadata": {},
   "outputs": [],
   "source": [
    "matriz = soup.find_all('div',{'class':'flight-price-card__grid-box'})\n",
    "print(matriz)"
   ]
  },
  {
   "cell_type": "code",
   "execution_count": null,
   "id": "6af0aef4",
   "metadata": {},
   "outputs": [],
   "source": [
    "trajeto = soup.find('div',{'class':'label-route-info-flight__airport'}).text.strip()\n",
    "horarioPartida = soup.find('span',{'class':'flight-time__leg-info'}).text.strip()\n",
    "horarioChegada = soup.find('div',{'class':'theme-text--subtitle-1'}).text.strip()\n",
    "\n",
    "print(f'Trajeto:{trajeto}')\n",
    "print(f'Hora Partida: {horarioPartida}')\n",
    "print(f'Hora Chegada: {horarioChegada}')\n"
   ]
  },
  {
   "cell_type": "code",
   "execution_count": null,
   "id": "786204d4",
   "metadata": {},
   "outputs": [],
   "source": [
    "horarioChegada = soup.find_all('div',{'class':'theme-text--subtitle-1'})\n",
    "print(len(horarioChegada))\n",
    "\n",
    "for item in horarioChegada:\n",
    "    print(item)"
   ]
  },
  {
   "cell_type": "code",
   "execution_count": null,
   "id": "91ff8dcd",
   "metadata": {},
   "outputs": [],
   "source": []
  }
 ],
 "metadata": {
  "kernelspec": {
   "display_name": "Python 3 (ipykernel)",
   "language": "python",
   "name": "python3"
  },
  "language_info": {
   "codemirror_mode": {
    "name": "ipython",
    "version": 3
   },
   "file_extension": ".py",
   "mimetype": "text/x-python",
   "name": "python",
   "nbconvert_exporter": "python",
   "pygments_lexer": "ipython3",
   "version": "3.8.0rc1"
  }
 },
 "nbformat": 4,
 "nbformat_minor": 5
}
