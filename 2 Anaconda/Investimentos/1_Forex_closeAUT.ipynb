{
 "cells": [
  {
   "cell_type": "code",
   "execution_count": 69,
   "id": "a02e923c",
   "metadata": {},
   "outputs": [
    {
     "name": "stdout",
     "output_type": "stream",
     "text": [
      "Buscando dados...2021-11-26 10:12:04.145889\n"
     ]
    }
   ],
   "source": [
    "from datetime import datetime\n",
    "import MetaTrader5 as mt5\n",
    "import time\n",
    "import telepot\n",
    "\n",
    "agora = datetime.now()\n",
    "print(f'Buscando dados...{agora}')\n",
    "\n",
    "import pandas as pd\n",
    "pd.set_option('display.max_columns', 500) # número de colunas\n",
    "pd.set_option('display.width', 1500)      # largura máxima da tabela\n",
    "\n",
    "\n",
    "if not mt5.initialize(login=54679378, server=\"MetaQuotes-Demo\", password=\"hz7ulfri\"):\n",
    "\n",
    "    print(\"initialize() failed, error code =\",mt5.last_error())\n",
    "    quit()\n",
    "\n",
    "    \n",
    "symbol = \"EURUSD\"\n",
    " "
   ]
  },
  {
   "cell_type": "code",
   "execution_count": 71,
   "id": "e7f35c35",
   "metadata": {},
   "outputs": [
    {
     "data": {
      "text/plain": [
       "OrderSendResult(retcode=10009, deal=1189102220, order=1205702782, volume=1.0, price=1.12868, bid=1.12865, ask=1.12868, comment='Request executed', request_id=73, retcode_external=0, request=TradeRequest(action=1, magic=234000, order=0, symbol='EURUSD', volume=1.0, price=1.12868, stoplimit=0.0, sl=0.0, tp=0.0, deviation=0, type=0, type_filling=2, type_time=0, expiration=0, comment='prython script open', position=0, position_by=0))"
      ]
     },
     "execution_count": 71,
     "metadata": {},
     "output_type": "execute_result"
    }
   ],
   "source": [
    "# ORDEM DE COMPRA\n",
    "lot = 1.0\n",
    "point = mt5.symbol_info(symbol).point\n",
    "price = mt5.symbol_info_tick(symbol).ask\n",
    "desviation = 1\n",
    "request = {    \n",
    "    \"action\": mt5.TRADE_ACTION_DEAL,\n",
    "    \"symbol\": symbol,\n",
    "    \"volume\": lot,\n",
    "    \"type\": mt5.ORDER_TYPE_BUY,\n",
    "    \"price\": price,\n",
    "    \"magic\": 234000,\n",
    "    \"desviation\": desviation,\n",
    "    \"comment\": \"prython script open\",\n",
    "    \"type_time\":mt5.ORDER_TIME_GTC,\n",
    "    'type_filling':mt5.ORDER_FILLING_RETURN,\n",
    "\n",
    "    }\n",
    "result = mt5.order_send(request)\n",
    "result"
   ]
  },
  {
   "cell_type": "code",
   "execution_count": 60,
   "id": "ebc35285",
   "metadata": {},
   "outputs": [
    {
     "data": {
      "text/plain": [
       "OrderSendResult(retcode=10009, deal=1189065035, order=1205665002, volume=1.0, price=1.12901, bid=1.12901, ask=1.12901, comment='Request executed', request_id=71, retcode_external=0, request=TradeRequest(action=1, magic=234000, order=0, symbol='EURUSD', volume=1.0, price=1.12901, stoplimit=0.0, sl=0.0, tp=0.0, deviation=1, type=1, type_filling=2, type_time=0, expiration=0, comment='python script close', position=0, position_by=0))"
      ]
     },
     "execution_count": 60,
     "metadata": {},
     "output_type": "execute_result"
    }
   ],
   "source": [
    "# ORDEM DE VENDA\n",
    "lot = 1.0\n",
    "point = mt5.symbol_info(symbol).point\n",
    "price=mt5.symbol_info_tick(symbol).bid\n",
    "desviation = 1\n",
    "request2={\n",
    "    \"action\": mt5.TRADE_ACTION_DEAL,\n",
    "    \"symbol\": symbol,\n",
    "    \"volume\": lot,\n",
    "    \"type\": mt5.ORDER_TYPE_SELL,\n",
    "    \"price\": price,\n",
    "\n",
    "    \"deviation\": desviation,\n",
    "    \"magic\": 234000,\n",
    "    \"comment\": \"python script close\",\n",
    "    \"type_time\": mt5.ORDER_TIME_GTC,\n",
    "    \"type_filling\": mt5.ORDER_FILLING_RETURN,\n",
    "    }    \n",
    "result = mt5.order_send(request2)\n",
    "result"
   ]
  },
  {
   "cell_type": "code",
   "execution_count": 72,
   "id": "5b637022",
   "metadata": {},
   "outputs": [
    {
     "name": "stdout",
     "output_type": "stream",
     "text": [
      "(TradePosition(ticket=1205702782, time=1637939557, time_msc=1637939557782, time_update=1637939557, time_update_msc=1637939557782, type=0, magic=234000, identifier=1205702782, reason=3, volume=1.0, price_open=1.12868, sl=0.0, tp=0.0, price_current=1.12885, swap=0.0, profit=17.0, symbol='EURUSD', comment='prython script o', external_id=''),)\n",
      "1205702782\n",
      "Compra\n",
      "\n"
     ]
    },
    {
     "data": {
      "text/html": [
       "<div>\n",
       "<style scoped>\n",
       "    .dataframe tbody tr th:only-of-type {\n",
       "        vertical-align: middle;\n",
       "    }\n",
       "\n",
       "    .dataframe tbody tr th {\n",
       "        vertical-align: top;\n",
       "    }\n",
       "\n",
       "    .dataframe thead th {\n",
       "        text-align: right;\n",
       "    }\n",
       "</style>\n",
       "<table border=\"1\" class=\"dataframe\">\n",
       "  <thead>\n",
       "    <tr style=\"text-align: right;\">\n",
       "      <th></th>\n",
       "      <th>ticket</th>\n",
       "      <th>time</th>\n",
       "      <th>time_msc</th>\n",
       "      <th>time_update</th>\n",
       "      <th>time_update_msc</th>\n",
       "      <th>type</th>\n",
       "      <th>magic</th>\n",
       "      <th>identifier</th>\n",
       "      <th>reason</th>\n",
       "      <th>volume</th>\n",
       "      <th>price_open</th>\n",
       "      <th>sl</th>\n",
       "      <th>tp</th>\n",
       "      <th>price_current</th>\n",
       "      <th>swap</th>\n",
       "      <th>profit</th>\n",
       "      <th>symbol</th>\n",
       "      <th>comment</th>\n",
       "      <th>external_id</th>\n",
       "      <th>teste</th>\n",
       "    </tr>\n",
       "  </thead>\n",
       "  <tbody>\n",
       "    <tr>\n",
       "      <th>0</th>\n",
       "      <td>1205702782</td>\n",
       "      <td>2021-11-26 15:12:37</td>\n",
       "      <td>1637939557782</td>\n",
       "      <td>1637939557</td>\n",
       "      <td>1637939557782</td>\n",
       "      <td>0</td>\n",
       "      <td>234000</td>\n",
       "      <td>1205702782</td>\n",
       "      <td>3</td>\n",
       "      <td>1.0</td>\n",
       "      <td>1.12868</td>\n",
       "      <td>0.0</td>\n",
       "      <td>0.0</td>\n",
       "      <td>1.12885</td>\n",
       "      <td>0.0</td>\n",
       "      <td>17.0</td>\n",
       "      <td>EURUSD</td>\n",
       "      <td>prython script o</td>\n",
       "      <td></td>\n",
       "      <td>0</td>\n",
       "    </tr>\n",
       "  </tbody>\n",
       "</table>\n",
       "</div>"
      ],
      "text/plain": [
       "       ticket                time       time_msc  time_update  time_update_msc  type   magic  identifier  reason  volume  price_open   sl   tp  price_current  swap  profit  symbol           comment external_id  teste\n",
       "0  1205702782 2021-11-26 15:12:37  1637939557782   1637939557    1637939557782     0  234000  1205702782       3     1.0     1.12868  0.0  0.0        1.12885   0.0    17.0  EURUSD  prython script o                  0"
      ]
     },
     "metadata": {},
     "output_type": "display_data"
    }
   ],
   "source": [
    "# RELATÓRIO DAS POSIÇÕES ABERTAS\n",
    "\n",
    "info_posicoes = mt5.positions_get()\n",
    "print(info_posicoes)\n",
    "df = pd.DataFrame(list(info_posicoes), columns=info_posicoes[0]._asdict().keys())\n",
    "ticket = df['ticket'].iloc[0]\n",
    "natureza = df['type'].iloc[0]\n",
    "print(ticket)\n",
    "if natureza == 0:\n",
    "    print('Compra')\n",
    "else:\n",
    "    print('Venda')\n",
    "#print(natureza)\n",
    "print('')\n",
    "\n",
    "#DATAFRAME PANDAS\n",
    "df = pd.DataFrame(list(info_posicoes), columns=info_posicoes[0]._asdict().keys())\n",
    "df['time'] = pd.to_datetime(df['time'], unit='s')\n",
    "df['teste'] = df['type']\n",
    "display(df)"
   ]
  },
  {
   "cell_type": "code",
   "execution_count": 73,
   "id": "4b7bf2c1",
   "metadata": {},
   "outputs": [
    {
     "data": {
      "text/plain": [
       "OrderSendResult(retcode=10009, deal=1189103188, order=1205703765, volume=1.0, price=1.12892, bid=1.12892, ask=1.12892, comment='Request executed', request_id=74, retcode_external=0, request=TradeRequest(action=1, magic=234000, order=0, symbol='EURUSD', volume=1.0, price=1.12892, stoplimit=0.0, sl=0.0, tp=0.0, deviation=1, type=1, type_filling=2, type_time=0, expiration=0, comment='python script close', position=1205702782, position_by=0))"
      ]
     },
     "execution_count": 73,
     "metadata": {},
     "output_type": "execute_result"
    }
   ],
   "source": [
    "# FECHAMENTO de uma COMPRA\n",
    "ticket = int(ticket)\n",
    "position_id=ticket\n",
    "lot = 1.0\n",
    "#point = mt5.symbol_info(symbol).point\n",
    "price=mt5.symbol_info_tick(symbol).bid\n",
    "desviation = 1\n",
    "\n",
    "request2={\n",
    "    \"action\": mt5.TRADE_ACTION_DEAL,\n",
    "    \"symbol\": symbol,\n",
    "    \"volume\": lot,\n",
    "    \"type\": mt5.ORDER_TYPE_SELL,\n",
    "    \"position\": position_id,\n",
    "    \"price\": price,\n",
    "    \"deviation\": desviation,\n",
    "    \"magic\": 234000,\n",
    "    \"comment\": \"python script close\",\n",
    "    \"type_time\": mt5.ORDER_TIME_GTC,\n",
    "    \"type_filling\": mt5.ORDER_FILLING_RETURN,\n",
    "    }    \n",
    "result = mt5.order_send(request2)\n",
    "result"
   ]
  },
  {
   "cell_type": "code",
   "execution_count": 62,
   "id": "d657ee05",
   "metadata": {
    "scrolled": true
   },
   "outputs": [
    {
     "data": {
      "text/plain": [
       "OrderSendResult(retcode=10009, deal=1189065992, order=1205665954, volume=1.0, price=1.12896, bid=1.12896, ask=1.12896, comment='Request executed', request_id=72, retcode_external=0, request=TradeRequest(action=1, magic=234000, order=0, symbol='EURUSD', volume=1.0, price=1.12896, stoplimit=0.0, sl=0.0, tp=0.0, deviation=1, type=0, type_filling=2, type_time=0, expiration=0, comment='python script close', position=1205665002, position_by=0))"
      ]
     },
     "execution_count": 62,
     "metadata": {},
     "output_type": "execute_result"
    }
   ],
   "source": [
    "# FECHAMENTO de uma VENDA\n",
    "ticket = int(ticket)\n",
    "position_id=ticket\n",
    "lot = 1.0\n",
    "#point = mt5.symbol_info(symbol).point\n",
    "price=mt5.symbol_info_tick(symbol).ask\n",
    "desviation = 1\n",
    "\n",
    "request2={\n",
    "    \"action\": mt5.TRADE_ACTION_DEAL,\n",
    "    \"symbol\": symbol,\n",
    "    \"volume\": lot,\n",
    "    \"type\": mt5.ORDER_TYPE_BUY,\n",
    "    \"position\": position_id,\n",
    "    \"price\": price,\n",
    "    \"deviation\": desviation,\n",
    "    \"magic\": 234000,\n",
    "    \"comment\": \"python script close\",\n",
    "    \"type_time\": mt5.ORDER_TIME_GTC,\n",
    "    \"type_filling\": mt5.ORDER_FILLING_RETURN,\n",
    "    }    \n",
    "result = mt5.order_send(request2)\n",
    "result"
   ]
  },
  {
   "cell_type": "code",
   "execution_count": null,
   "id": "df341a60",
   "metadata": {},
   "outputs": [],
   "source": []
  }
 ],
 "metadata": {
  "kernelspec": {
   "display_name": "Python 3 (ipykernel)",
   "language": "python",
   "name": "python3"
  },
  "language_info": {
   "codemirror_mode": {
    "name": "ipython",
    "version": 3
   },
   "file_extension": ".py",
   "mimetype": "text/x-python",
   "name": "python",
   "nbconvert_exporter": "python",
   "pygments_lexer": "ipython3",
   "version": "3.8.8"
  }
 },
 "nbformat": 4,
 "nbformat_minor": 5
}
