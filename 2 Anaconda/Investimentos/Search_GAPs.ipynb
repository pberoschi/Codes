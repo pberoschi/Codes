{
 "cells": [
  {
   "cell_type": "code",
   "execution_count": 19,
   "id": "c359b78a",
   "metadata": {},
   "outputs": [
    {
     "name": "stdout",
     "output_type": "stream",
     "text": [
      "VALE3.SA: GAP de Baixa\n",
      "SUZB3.SA: GAP de Alta\n",
      "Fim da execucao do script\n"
     ]
    }
   ],
   "source": [
    "from datetime import datetime\n",
    "import time\n",
    "import telepot\n",
    "import pytz\n",
    "import yfinance as yf\n",
    "import numpy as np\n",
    "\n",
    "# importamos o módulo pandas para exibir os dados recebidos na forma de uma tabela\n",
    "import pandas as pd\n",
    "pd.set_option('display.max_columns', 500) # número de colunas\n",
    "pd.set_option('display.width', 1500)      # largura máxima da tabela\n",
    "pd.options.mode.chained_assignment = None  # default='warn'\n",
    "\n",
    "\n",
    "#symbols = ['^BVSP','VALE3.SA','PETR4.SA','ITUB4.SA','BBDC4.SA']\n",
    "symbols = ['^BVSP','USDBRL=X','VALE3.SA','PETR4.SA','ITUB4.SA','BBDC4.SA','PETR3.SA','B3SA3.SA','ELET3.SA','ABEV3.SA','RENT3.SA','BBAS3.SA','WEGE3.SA','ITSA4.SA','SUZB3.SA','BPAC11.SA','HAPV3.SA','EQTL3.SA','GGBR4.SA','JBSS3.SA','RADL3.SA','PRIO3.SA','LREN3.SA','RDOR3.SA','RAIL3.SA','BBDC3.SA']\n",
    "# SEM O DOLAR:\n",
    "#symbols = ['^BVSP','VALE3.SA','PETR4.SA','ITUB4.SA','BBDC4.SA','PETR3.SA','B3SA3.SA','ELET3.SA','ABEV3.SA','RENT3.SA','BBAS3.SA','WEGE3.SA','ITSA4.SA','SUZB3.SA','BPAC11.SA','HAPV3.SA','EQTL3.SA','GGBR4.SA','JBSS3.SA','RADL3.SA','PRIO3.SA','LREN3.SA','RDOR3.SA','RAIL3.SA','BBDC3.SA']\n",
    "\n",
    "for symbol in symbols: \n",
    "    resumo2 = yf.download (symbol, \n",
    "                       period = \"1w\",\n",
    "                       start = '2022-10-27', \n",
    "                       end = '2022-10-29',\n",
    "                       #interval = \"1D\",\n",
    "                       #group_by = 'ticker', ## poderá chamar df[ticker]\n",
    "                       progress = False)\n",
    "\n",
    "    resumo = resumo2[['High','Low']] \n",
    "    #resumo['Variacao'] = ''\n",
    "    resumo['ALERTA'] = ''\n",
    "\n",
    "    for x in range (1, len(resumo)):\n",
    "        if resumo['High'].iloc[x-1] < resumo['Low'].iloc[x-2]:\n",
    "            print(f'{symbol}: GAP de Alta')\n",
    "            #resumo['ALERTA'][x] = 'GAP de Baixa'\n",
    "            #display(resumo.tail(2))\n",
    "            \n",
    "\n",
    "        elif resumo['Low'].iloc[x-1] > resumo['High'].iloc[x-2]:\n",
    "            print(f'{symbol}: GAP de Baixa') \n",
    "            #resumo['ALERTA'][x] = 'GAP de Alta'\n",
    "            #display(resumo.tail(2))\n",
    "            \n",
    "print('Fim da execucao do script')"
   ]
  },
  {
   "cell_type": "code",
   "execution_count": null,
   "id": "0687c8b4",
   "metadata": {},
   "outputs": [],
   "source": []
  },
  {
   "cell_type": "code",
   "execution_count": null,
   "id": "7408cd04",
   "metadata": {},
   "outputs": [],
   "source": []
  },
  {
   "cell_type": "code",
   "execution_count": null,
   "id": "2d7783fd",
   "metadata": {},
   "outputs": [],
   "source": [
    "#resumo\n",
    "for x in range (1, len(resumo)):\n",
    "    vol = resumo['Open'][x] - resumo['Adj Close'][x]\n",
    "    resumo['Variacao'][x] = vol\n",
    "    if resumo['Variacao'][x] < 0:\n",
    "        r = resumo['Variacao'][x] * -1 #Convertendo numeros negativos em positivos\n",
    "        resumo['Variacao'][x] = r\n",
    "    if resumo['Variacao'][x] > 1.5:\n",
    "        resumo['ALERTA'][x] = 'ATENCAO'\n",
    "    \n",
    "resumo"
   ]
  }
 ],
 "metadata": {
  "kernelspec": {
   "display_name": "Python 3",
   "language": "python",
   "name": "python3"
  },
  "language_info": {
   "codemirror_mode": {
    "name": "ipython",
    "version": 3
   },
   "file_extension": ".py",
   "mimetype": "text/x-python",
   "name": "python",
   "nbconvert_exporter": "python",
   "pygments_lexer": "ipython3",
   "version": "3.8.8"
  }
 },
 "nbformat": 4,
 "nbformat_minor": 5
}
