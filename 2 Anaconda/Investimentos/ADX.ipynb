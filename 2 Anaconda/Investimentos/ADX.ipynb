{
 "cells": [
  {
   "cell_type": "code",
   "execution_count": 10,
   "id": "d99737a4",
   "metadata": {
    "scrolled": false
   },
   "outputs": [
    {
     "name": "stdout",
     "output_type": "stream",
     "text": [
      "EURUSD\n"
     ]
    },
    {
     "data": {
      "text/html": [
       "<div>\n",
       "<style scoped>\n",
       "    .dataframe tbody tr th:only-of-type {\n",
       "        vertical-align: middle;\n",
       "    }\n",
       "\n",
       "    .dataframe tbody tr th {\n",
       "        vertical-align: top;\n",
       "    }\n",
       "\n",
       "    .dataframe thead th {\n",
       "        text-align: right;\n",
       "    }\n",
       "</style>\n",
       "<table border=\"1\" class=\"dataframe\">\n",
       "  <thead>\n",
       "    <tr style=\"text-align: right;\">\n",
       "      <th></th>\n",
       "      <th>time</th>\n",
       "      <th>plus_di</th>\n",
       "      <th>minus_di</th>\n",
       "      <th>adx</th>\n",
       "    </tr>\n",
       "  </thead>\n",
       "  <tbody>\n",
       "    <tr>\n",
       "      <th>99</th>\n",
       "      <td>2022-04-05 21:15:00</td>\n",
       "      <td>14.229142</td>\n",
       "      <td>50.632756</td>\n",
       "      <td>53.020126</td>\n",
       "    </tr>\n",
       "  </tbody>\n",
       "</table>\n",
       "</div>"
      ],
      "text/plain": [
       "                  time    plus_di   minus_di        adx\n",
       "99 2022-04-05 21:15:00  14.229142  50.632756  53.020126"
      ]
     },
     "metadata": {},
     "output_type": "display_data"
    }
   ],
   "source": [
    "from datetime import datetime\n",
    "import MetaTrader5 as mt5\n",
    "import time\n",
    "import telepot\n",
    "import pytz\n",
    "import numpy as np\n",
    "\n",
    "# importamos o módulo pandas para exibir os dados recebidos na forma de uma tabela\n",
    "import pandas as pd\n",
    "pd.set_option('display.max_columns', 500) # número de colunas\n",
    "pd.set_option('display.width', 1500)      # largura máxima da tabela\n",
    "pd.options.mode.chained_assignment = None  # default='warn'\n",
    "\n",
    "#if not mt5.initialize(login=1092947504, server=\"ClearInvestimentos-DEMO\", password=\"Joh0516\"):\n",
    "if not mt5.initialize(login=4999473749, server=\"MetaQuotes-Demo\", password=\"elf4lnbx\"):\n",
    "    print(\"initialize() failed, error code =\",mt5.last_error())\n",
    "    quit()\n",
    "    \n",
    "\n",
    "symbol = 'EURUSD'\n",
    "#symbol = 'GBPUSD'\n",
    "#symbol = 'USDJPY'\n",
    "\n",
    "print(symbol)\n",
    "rates = mt5.copy_rates_from_pos(symbol, mt5.TIMEFRAME_M15, 0, 100)\n",
    "rates_frame = pd.DataFrame(rates)\n",
    "rates_frame['time']=pd.to_datetime(rates_frame['time'], unit='s')\n",
    "resumo = rates_frame[['time','open','high','low','close','tick_volume']]\n",
    "adxTab = resumo\n",
    "\n",
    "def get_adx(high, low, close, lookback):\n",
    "    plus_dm = high.diff()\n",
    "    minus_dm = low.diff()\n",
    "    plus_dm[plus_dm < 0] = 0\n",
    "    minus_dm[minus_dm > 0] = 0\n",
    "    \n",
    "    tr1 = pd.DataFrame(high - low)\n",
    "    tr2 = pd.DataFrame(abs(high - close.shift(1)))\n",
    "    tr3 = pd.DataFrame(abs(low - close.shift(1)))\n",
    "    frames = [tr1, tr2, tr3]\n",
    "    tr = pd.concat(frames, axis = 1, join = 'inner').max(axis = 1)\n",
    "    atr = tr.rolling(lookback).mean()\n",
    "    \n",
    "    plus_di = 100 * (plus_dm.ewm(alpha = 1/lookback).mean() / atr)\n",
    "    minus_di = abs(100 * (minus_dm.ewm(alpha = 1/lookback).mean() / atr))\n",
    "    dx = (abs(plus_di - minus_di) / abs(plus_di + minus_di)) * 100\n",
    "    adx = ((dx.shift(1) * (lookback - 1)) + dx) / lookback\n",
    "    adx_smooth = adx.ewm(alpha = 1/lookback).mean()\n",
    "    return plus_di, minus_di, adx_smooth\n",
    "\n",
    "adxTab['plus_di'] = pd.DataFrame(get_adx(adxTab['high'], adxTab['low'], adxTab['close'], 9)[0]).rename(columns = {0:'plus_di'})\n",
    "adxTab['minus_di'] = pd.DataFrame(get_adx(adxTab['high'], adxTab['low'], adxTab['close'], 9)[1]).rename(columns = {0:'minus_di'})\n",
    "adxTab['adx'] = pd.DataFrame(get_adx(adxTab['high'], adxTab['low'], adxTab['close'], 9)[2]).rename(columns = {0:'adx'})\n",
    "adxTab = adxTab.dropna()\n",
    "#aapl\n",
    "\n",
    "resumoADX = aapl[['time','plus_di','minus_di','adx']]\n",
    "display(resumoADX.tail(1))"
   ]
  },
  {
   "cell_type": "code",
   "execution_count": null,
   "id": "94ccaf24",
   "metadata": {},
   "outputs": [],
   "source": []
  },
  {
   "cell_type": "code",
   "execution_count": null,
   "id": "7f41bd4e",
   "metadata": {},
   "outputs": [],
   "source": []
  }
 ],
 "metadata": {
  "kernelspec": {
   "display_name": "Python 3",
   "language": "python",
   "name": "python3"
  },
  "language_info": {
   "codemirror_mode": {
    "name": "ipython",
    "version": 3
   },
   "file_extension": ".py",
   "mimetype": "text/x-python",
   "name": "python",
   "nbconvert_exporter": "python",
   "pygments_lexer": "ipython3",
   "version": "3.8.8"
  }
 },
 "nbformat": 4,
 "nbformat_minor": 5
}
