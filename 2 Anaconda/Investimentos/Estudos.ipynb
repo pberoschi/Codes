{
 "cells": [
  {
   "cell_type": "code",
   "execution_count": null,
   "id": "3d01e05d",
   "metadata": {},
   "outputs": [],
   "source": [
    "import telepot\n",
    "bot = telepot.Bot(\"5026686955:AAHvm0rJOf-_nSCi8sOHYVMhY8zPCBEd73k\")\n",
    "\n",
    "def recebeMsg(msg):\n",
    "    texto = msg['text']\n",
    "    #print(texto)\n",
    "    if texto == '8579.5':\n",
    "        print(f'SUPORTE CADASTRADO: {texto}')\n",
    "    else:\n",
    "        print('Texto diferente')\n",
    "        \n",
    "bot.message_loop(recebeMsg)\n",
    "\n",
    "while True:\n",
    "    pass"
   ]
  },
  {
   "cell_type": "code",
   "execution_count": null,
   "id": "330328d2",
   "metadata": {},
   "outputs": [],
   "source": [
    "import telepot\n",
    "from telepot.loop import MessageLoop\n",
    "from pprint import pprint\n",
    "bot = telepot.Bot(\"5026686955:AAHvm0rJOf-_nSCi8sOHYVMhY8zPCBEd73k\")\n",
    "\n",
    "#response = bot.getUpdates(offset=100000001)\n",
    "#pprint(response)\n",
    "\n",
    "def handle(msg):\n",
    "    pprint(msg)\n",
    "\n",
    "MessageLoop(bot, handle).run_as_thread()"
   ]
  },
  {
   "cell_type": "code",
   "execution_count": null,
   "id": "3d37fa4c",
   "metadata": {},
   "outputs": [],
   "source": [
    "bot.sendMessage(984798692, 'Hey!')"
   ]
  },
  {
   "cell_type": "code",
   "execution_count": 1,
   "id": "e4c93db9",
   "metadata": {},
   "outputs": [],
   "source": [
    "import sys\n",
    "import time\n",
    "import telepot\n",
    "from telepot.loop import MessageLoop\n",
    "#from pprint import pprint\n",
    "\n",
    "def handle(msg):\n",
    "    content_type, chat_type, chat_id = telepot.glance(msg)\n",
    "    #print(content_type, chat_type, chat_id)\n",
    "    print(msg['text'])\n",
    "\n",
    "    #if content_type == 'text':\n",
    "        #bot.sendMessage(chat_id, msg['text'])\n",
    "        #print(msg['text'])\n",
    "\n",
    "\n",
    "\n",
    "bot = telepot.Bot(\"5026686955:AAHvm0rJOf-_nSCi8sOHYVMhY8zPCBEd73k\")\n",
    "MessageLoop(bot, handle).run_as_thread()\n",
    "#print ('Listening ...')\n",
    "\n",
    "# Keep the program running.\n",
    "#while 1:\n",
    "    #time.sleep(10)"
   ]
  },
  {
   "cell_type": "code",
   "execution_count": 3,
   "id": "af82c439",
   "metadata": {},
   "outputs": [
    {
     "data": {
      "text/plain": [
       "{'message_id': 44,\n",
       " 'from': {'id': 5026686955,\n",
       "  'is_bot': True,\n",
       "  'first_name': 'alertas.Bot',\n",
       "  'username': 'alertas_SupResBOT'},\n",
       " 'chat': {'id': 984798692,\n",
       "  'first_name': 'Johnny',\n",
       "  'username': 'johnnygbf',\n",
       "  'type': 'private'},\n",
       " 'date': 1640808579,\n",
       " 'text': 'Teste'}"
      ]
     },
     "execution_count": 3,
     "metadata": {},
     "output_type": "execute_result"
    }
   ],
   "source": [
    "bot.sendMessage(984798692,'Teste')"
   ]
  },
  {
   "cell_type": "code",
   "execution_count": null,
   "id": "f6b34876",
   "metadata": {},
   "outputs": [],
   "source": []
  }
 ],
 "metadata": {
  "kernelspec": {
   "display_name": "Python 3",
   "language": "python",
   "name": "python3"
  },
  "language_info": {
   "codemirror_mode": {
    "name": "ipython",
    "version": 3
   },
   "file_extension": ".py",
   "mimetype": "text/x-python",
   "name": "python",
   "nbconvert_exporter": "python",
   "pygments_lexer": "ipython3",
   "version": "3.8.8"
  }
 },
 "nbformat": 4,
 "nbformat_minor": 5
}
