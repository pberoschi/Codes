{
 "cells": [
  {
   "cell_type": "code",
   "execution_count": 56,
   "id": "8007eee2",
   "metadata": {},
   "outputs": [
    {
     "name": "stdout",
     "output_type": "stream",
     "text": [
      "Qual o ticker? prio3\n",
      "Médias > 15 MIN <\n",
      "Low     27.50\n",
      "High    27.53\n",
      "dtype: float64\n",
      "15\n",
      "------------------------------\n",
      "Baixa de -0.00%\n"
     ]
    }
   ],
   "source": [
    "\n",
    "import yfinance as yf\n",
    "import matplotlib.pyplot as plt\n",
    "ticker = input(f'Qual o ticker? ')\n",
    "dia = yf.Ticker(ticker+'.SA')\n",
    "base = dia.history(period='1d', interval='1m')\n",
    "\n",
    "#MEDIA 15 minutos\n",
    "media15_1 = base[['Low','High']].tail(15)\n",
    "media15 = media15_1.mean()\n",
    "#IMPRESSÕES\n",
    "\n",
    "print('Médias > 15 MIN <')\n",
    "print(round(media15,2))\n",
    "print(len(media15_1))\n",
    "print('-'*30)\n",
    "\n",
    "\n",
    "inicial = media15_1['Low'].tail(1)\n",
    "final = media15_1['High'].tail(1)\n",
    "resultado = float(((final - inicial) / inicial) * 100)\n",
    "#resultado2 = resultado(round(2))\n",
    "#round(number, digits) \n",
    "\n",
    "if resultado > 0:\n",
    "    resultado = \"%.2f\"%resultado\n",
    "    positivo = f'Aumento de +{resultado}%'\n",
    "    print(positivo)\n",
    "\n",
    "else:\n",
    "    resultado = \"%.2f\"%resultado\n",
    "    negativo = f'Baixa de -{resultado}%' \n",
    "    print(negativo)"
   ]
  },
  {
   "cell_type": "code",
   "execution_count": null,
   "id": "881b20f7",
   "metadata": {},
   "outputs": [],
   "source": []
  },
  {
   "cell_type": "code",
   "execution_count": null,
   "id": "01fc45ad",
   "metadata": {},
   "outputs": [],
   "source": []
  }
 ],
 "metadata": {
  "kernelspec": {
   "display_name": "Python 3",
   "language": "python",
   "name": "python3"
  },
  "language_info": {
   "codemirror_mode": {
    "name": "ipython",
    "version": 3
   },
   "file_extension": ".py",
   "mimetype": "text/x-python",
   "name": "python",
   "nbconvert_exporter": "python",
   "pygments_lexer": "ipython3",
   "version": "3.8.8"
  }
 },
 "nbformat": 4,
 "nbformat_minor": 5
}
