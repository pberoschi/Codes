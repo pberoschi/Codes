{
 "cells": [
  {
   "cell_type": "code",
   "execution_count": 10,
   "id": "157cbacd",
   "metadata": {},
   "outputs": [
    {
     "data": {
      "text/html": [
       "<div>\n",
       "<style scoped>\n",
       "    .dataframe tbody tr th:only-of-type {\n",
       "        vertical-align: middle;\n",
       "    }\n",
       "\n",
       "    .dataframe tbody tr th {\n",
       "        vertical-align: top;\n",
       "    }\n",
       "\n",
       "    .dataframe thead th {\n",
       "        text-align: right;\n",
       "    }\n",
       "</style>\n",
       "<table border=\"1\" class=\"dataframe\">\n",
       "  <thead>\n",
       "    <tr style=\"text-align: right;\">\n",
       "      <th></th>\n",
       "    </tr>\n",
       "  </thead>\n",
       "  <tbody>\n",
       "  </tbody>\n",
       "</table>\n",
       "</div>"
      ],
      "text/plain": [
       "Empty DataFrame\n",
       "Columns: []\n",
       "Index: []"
      ]
     },
     "metadata": {},
     "output_type": "display_data"
    }
   ],
   "source": [
    "import MetaTrader5 as mt5\n",
    "from datetime import datetime\n",
    "import time\n",
    "import pandas as pd\n",
    "from pandas_datareader import data as pdr\n",
    "import numpy as np\n",
    "import matplotlib.pyplot as plt\n",
    "#%matplotlib inline\n",
    "\n",
    "ticker = 'ITUB4'\n",
    "\n",
    "#def get_ohlc(ativo, timeframe, n=5):\n",
    "ativo = mt5.copy_rates_from(\"ITUB4\", datetime(2020,1,27,13), datetime(2020,1,28,13))\n",
    "ativo = pd.DataFrame(ativo)\n",
    "    \n",
    "#ativo.set_index('time', inplace = True)\n",
    "\n",
    "display(ativo)\n"
   ]
  },
  {
   "cell_type": "code",
   "execution_count": null,
   "id": "e009d213",
   "metadata": {},
   "outputs": [],
   "source": [
    "ativo['time'] = pd.to_datetime(ativo['time'], unit='s')\n",
    "ativo['Pivot'] = (ativo['high'] + ativo['low'] + ativo['close'])/3\n",
    "ativo['R1'] = 2*ativo['Pivot'] - ativo['low']\n",
    "ativo['S1'] = 2*ativo['Pivot'] - ativo['high']\n",
    "ativo['R2'] = ativo['Pivot'] + (ativo['high'] - ativo['low'])\n",
    "ativo['S2'] = ativo['Pivot'] - (ativo['high'] - ativo['low'])\n",
    "ativo['R3'] = ativo['Pivot'] + 2*(ativo['high'] - ativo['low'])\n",
    "ativo['S3'] = ativo['Pivot'] - 2*(ativo['high'] - ativo['low'])"
   ]
  },
  {
   "cell_type": "code",
   "execution_count": null,
   "id": "2fd0303f",
   "metadata": {},
   "outputs": [],
   "source": [
    "\n",
    "\n",
    "tempo = time.time() + 18000\n",
    "while time.time() < tempo:\n",
    "    ativo = (get_ohlc(ticker, mt5.TIMEFRAME_M5))\n",
    "    tick = mt5.symbol_info_tick(ticker)\n",
    "    print (f'{ticker} - ultimo valor: {tick.last}, Topo do Book C: {tick.bid},Topo do Book V: {tick.ask}', tick.last > ativo['Pivot'][-1 -1], end  = '\\r')\n",
    "    if tick.last > ativo['Pivot'][-1 -1]:\n",
    "        if mt5.positions_get(symbol=ticker) == () or mt5.positions_get(symbol=ticker)[0][5] == 1:\n",
    "            #enviadno ordem de compra \n",
    "            #result = mt5.order_send(request)\n",
    "            print(f'1. Ordem COMPRA enviada:{lot} de {symbol} ao preço de {price} com desvio de {desviation}',end  = '\\r')\n",
    "\n",
    "    if tick.last < ativo['S1'][-1 -1]:\n",
    "        \n",
    "        if mt5.positions_get(symbol=ticker) == () or mt5.positions_get(symbol=ticker)[0][5] == 0:\n",
    "            #enviadno ordem de venda \n",
    "            result = mt5.order_send(request2)\n",
    "        #verificando a resultado da execulção \n",
    "            print(f'1. Ordem VENDA enviada: {lot} de {symbol} ao preço de {price} com desvio de {desviation}',end  = '\\r')\n",
    "        \n",
    "    time.sleep(0.5)"
   ]
  }
 ],
 "metadata": {
  "kernelspec": {
   "display_name": "Python 3",
   "language": "python",
   "name": "python3"
  },
  "language_info": {
   "codemirror_mode": {
    "name": "ipython",
    "version": 3
   },
   "file_extension": ".py",
   "mimetype": "text/x-python",
   "name": "python",
   "nbconvert_exporter": "python",
   "pygments_lexer": "ipython3",
   "version": "3.8.8"
  }
 },
 "nbformat": 4,
 "nbformat_minor": 5
}
