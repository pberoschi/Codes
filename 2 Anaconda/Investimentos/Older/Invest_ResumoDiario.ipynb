{
 "cells": [
  {
   "cell_type": "code",
   "execution_count": 2,
   "id": "5cb4422d",
   "metadata": {
    "scrolled": false
   },
   "outputs": [
    {
     "name": "stdout",
     "output_type": "stream",
     "text": [
      "*** ALTAS ***\n"
     ]
    },
    {
     "ename": "NameError",
     "evalue": "name 'dfA' is not defined",
     "output_type": "error",
     "traceback": [
      "\u001b[1;31m---------------------------------------------------------------------------\u001b[0m",
      "\u001b[1;31mNameError\u001b[0m                                 Traceback (most recent call last)",
      "\u001b[1;32m<ipython-input-2-914eb2e933fd>\u001b[0m in \u001b[0;36m<module>\u001b[1;34m\u001b[0m\n\u001b[0;32m     84\u001b[0m \u001b[1;33m\u001b[0m\u001b[0m\n\u001b[0;32m     85\u001b[0m \u001b[0mprint\u001b[0m\u001b[1;33m(\u001b[0m\u001b[1;34m'*** ALTAS ***'\u001b[0m\u001b[1;33m)\u001b[0m\u001b[1;33m\u001b[0m\u001b[1;33m\u001b[0m\u001b[0m\n\u001b[1;32m---> 86\u001b[1;33m \u001b[0mprint\u001b[0m\u001b[1;33m(\u001b[0m\u001b[0mdfA\u001b[0m\u001b[1;33m)\u001b[0m\u001b[1;33m\u001b[0m\u001b[1;33m\u001b[0m\u001b[0m\n\u001b[0m\u001b[0;32m     87\u001b[0m \u001b[0mprint\u001b[0m\u001b[1;33m(\u001b[0m\u001b[1;34m'-'\u001b[0m\u001b[1;33m*\u001b[0m\u001b[1;36m30\u001b[0m\u001b[1;33m)\u001b[0m\u001b[1;33m\u001b[0m\u001b[1;33m\u001b[0m\u001b[0m\n\u001b[0;32m     88\u001b[0m \u001b[0mprint\u001b[0m\u001b[1;33m(\u001b[0m\u001b[1;34m'*** BAIXAS ***'\u001b[0m\u001b[1;33m)\u001b[0m\u001b[1;33m\u001b[0m\u001b[1;33m\u001b[0m\u001b[0m\n",
      "\u001b[1;31mNameError\u001b[0m: name 'dfA' is not defined"
     ]
    }
   ],
   "source": [
    "import requests\n",
    "from bs4 import BeautifulSoup\n",
    "import pandas as pd\n",
    " \n",
    "headers = {'User-Agent':'Mozilla/5.0 (Windows NT 10.0; Win64; x64) AppleWebKit/537.36 (KHTML, like Gecko) Chrome/90.0.4430.212 Safari/537.36'}\n",
    "\n",
    "url = ('https://economia.uol.com.br/cotacoes/bolsas/')\n",
    " \n",
    "r = requests.get(url, headers=headers)\n",
    "soup = BeautifulSoup(r.content, 'html.parser')\n",
    "\n",
    "#base = soup.find('div',{'class':'col-lg-8 col-md-8 col-sm-8 col-xs-8'})\n",
    "#nome = soup.find('div',{'class':'col-lg-8 col-md-8 col-sm-8 col-xs-8'}).find('h3').text\n",
    "\n",
    "\n",
    "def Altas():\n",
    "    maioresAltas = []\n",
    "\n",
    "\n",
    "    for item in soup.find_all('tr',{'class':'dadosRankings'})[0:5]:\n",
    "        title = item.find('td',{'class':'title'}).text\n",
    "        variacaoA = item.find('td',{'class':'up'}).text\n",
    "        valor = item.find('td').next_element.next_element.next_element.next_element.next_element.next_element.text\n",
    "\n",
    "        lista1 = {\n",
    "            'TICKER':title,\n",
    "            'VARIAÇÃO': variacaoA,\n",
    "            'VALOR': valor\n",
    "        }\n",
    "\n",
    "        maioresAltas.append(lista1)\n",
    "\n",
    "    dfA = pd.DataFrame(maioresAltas)\n",
    "    print('*** Maiores Altas ***'.upper())\n",
    "\n",
    "\n",
    "\n",
    "def Baixas():\n",
    "\n",
    "    maioresBaixas = []\n",
    "\n",
    "    lista2 = []\n",
    "\n",
    "    for item in soup.find_all('tr',{'class':'dadosRankings'})[6:10]:\n",
    "        title = item.find('td',{'class':'title'}).text\n",
    "        variacaoB = item.find('td',{'class':'down'}).text\n",
    "        valor = item.find('td').next_element.next_element.next_element.next_element.next_element.next_element.text\n",
    "\n",
    "        lista2 = {\n",
    "            'TICKER':title,\n",
    "            'VARIAÇÃO': variacaoB,\n",
    "            'VALOR': valor\n",
    "        }\n",
    "\n",
    "        maioresBaixas.append(lista2)\n",
    "\n",
    "    dfB = pd.DataFrame(maioresBaixas)\n",
    "    print('*** Maiores Baixas ***'.upper())\n",
    "\n",
    "\n",
    "\n",
    "def MaisNegociadas():\n",
    "\n",
    "    maioresNegociadas = []\n",
    "\n",
    "    lista3 = []\n",
    "\n",
    "    for item in soup.find_all('tr',{'class':'dadosRankings'})[11:15]:\n",
    "        title = item.find('td',{'class':'title'}).text\n",
    "        #variacaoB = item.find('td',{'class':'down'}).text\n",
    "        valor = item.find('td').next_element.next_element.next_element.next_element.next_element.next_element.text\n",
    "\n",
    "        lista3 = {\n",
    "            'TICKER':title,\n",
    "            #'VARIAÇÃO': variacaoC,\n",
    "            'VALOR': valor\n",
    "        }\n",
    "\n",
    "        maioresNegociadas.append(lista3)\n",
    "\n",
    "    dfC = pd.DataFrame(maioresNegociadas)\n",
    "    print('*** Maiores Negociadas ***'.upper())\n",
    "\n",
    "    \n",
    "print('*** ALTAS ***')\n",
    "print(dfA)\n",
    "print('-'*30)\n",
    "print('*** BAIXAS ***')\n",
    "print(dfB)\n",
    "print('-'*30)\n",
    "print('*** MAIS NEGOCIADAS ***')\n",
    "print(dfC)\n",
    "print('-'*30)"
   ]
  },
  {
   "cell_type": "code",
   "execution_count": null,
   "id": "3e30ba9c",
   "metadata": {},
   "outputs": [],
   "source": []
  }
 ],
 "metadata": {
  "celltoolbar": "Raw Cell Format",
  "kernelspec": {
   "display_name": "Python 3",
   "language": "python",
   "name": "python3"
  },
  "language_info": {
   "codemirror_mode": {
    "name": "ipython",
    "version": 3
   },
   "file_extension": ".py",
   "mimetype": "text/x-python",
   "name": "python",
   "nbconvert_exporter": "python",
   "pygments_lexer": "ipython3",
   "version": "3.8.8"
  }
 },
 "nbformat": 4,
 "nbformat_minor": 5
}
