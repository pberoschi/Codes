{
 "cells": [
  {
   "cell_type": "code",
   "execution_count": null,
   "id": "f36fe004",
   "metadata": {
    "scrolled": false
   },
   "outputs": [],
   "source": [
    "import pandas as pd\n",
    "import matplotlib.pyplot as plt\n",
    "import pandas_datareader.data as web\n",
    "import seaborn as sns\n",
    "from datetime import date\n",
    "import yfinance as yf\n",
    "yf.pdr_override()\n",
    " \n",
    "lista = [\n",
    "    'CXSE3.SA',\n",
    "    'OIBR3.SA',\n",
    "    'BRFS3.SA',\n",
    "    'ITUB4.SA',\n",
    "    'CIEL3.SA',\n",
    "    'GOAU4.SA',\n",
    "    'VALE3.SA',\n",
    "    'EMBR3.SA',\n",
    "    'PETR4.SA',\n",
    "    'PGMN3.SA',\n",
    "    'VIVR3.SA',\n",
    "    'BRML3.SA'\n",
    "]    \n",
    "\n",
    "carteira = web.get_data_yahoo(lista, period='1mo')\n",
    "abertura = carteira['Open'].tail()\n",
    "fechamento = carteira['Adj Close'].tail()\n",
    "\n",
    "resumo = pd.concat([abertura, fechamento])\n",
    "    \n",
    "#resumo.to_csv('c://Users//johnn//Downloads//Resumo_200521.csv', decimal=',')"
   ]
  },
  {
   "cell_type": "code",
   "execution_count": null,
   "id": "aa47f914",
   "metadata": {},
   "outputs": [],
   "source": []
  },
  {
   "cell_type": "code",
   "execution_count": null,
   "id": "8bcaa3df",
   "metadata": {},
   "outputs": [],
   "source": []
  }
 ],
 "metadata": {
  "kernelspec": {
   "display_name": "Python 3",
   "language": "python",
   "name": "python3"
  },
  "language_info": {
   "codemirror_mode": {
    "name": "ipython",
    "version": 3
   },
   "file_extension": ".py",
   "mimetype": "text/x-python",
   "name": "python",
   "nbconvert_exporter": "python",
   "pygments_lexer": "ipython3",
   "version": "3.8.8"
  }
 },
 "nbformat": 4,
 "nbformat_minor": 5
}
