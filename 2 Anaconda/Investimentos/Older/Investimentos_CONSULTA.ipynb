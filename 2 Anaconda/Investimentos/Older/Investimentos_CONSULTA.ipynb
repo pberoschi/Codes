{
 "cells": [
  {
   "cell_type": "code",
   "execution_count": 1,
   "id": "b322a657",
   "metadata": {},
   "outputs": [
    {
     "ename": "ModuleNotFoundError",
     "evalue": "No module named 'pandas_datareader'",
     "output_type": "error",
     "traceback": [
      "\u001b[1;31m---------------------------------------------------------------------------\u001b[0m",
      "\u001b[1;31mModuleNotFoundError\u001b[0m                       Traceback (most recent call last)",
      "\u001b[1;32m<ipython-input-1-bbf995edd052>\u001b[0m in \u001b[0;36m<module>\u001b[1;34m\u001b[0m\n\u001b[0;32m      2\u001b[0m \u001b[1;32mimport\u001b[0m \u001b[0mpandas\u001b[0m \u001b[1;32mas\u001b[0m \u001b[0mpd\u001b[0m\u001b[1;33m\u001b[0m\u001b[1;33m\u001b[0m\u001b[0m\n\u001b[0;32m      3\u001b[0m \u001b[1;32mimport\u001b[0m \u001b[0mmatplotlib\u001b[0m\u001b[1;33m.\u001b[0m\u001b[0mpyplot\u001b[0m \u001b[1;32mas\u001b[0m \u001b[0mplt\u001b[0m\u001b[1;33m\u001b[0m\u001b[1;33m\u001b[0m\u001b[0m\n\u001b[1;32m----> 4\u001b[1;33m \u001b[1;32mimport\u001b[0m \u001b[0mpandas_datareader\u001b[0m\u001b[1;33m.\u001b[0m\u001b[0mdata\u001b[0m \u001b[1;32mas\u001b[0m \u001b[0mweb\u001b[0m\u001b[1;33m\u001b[0m\u001b[1;33m\u001b[0m\u001b[0m\n\u001b[0m\u001b[0;32m      5\u001b[0m \u001b[1;32mfrom\u001b[0m \u001b[0mdatetime\u001b[0m \u001b[1;32mimport\u001b[0m \u001b[0mdate\u001b[0m\u001b[1;33m\u001b[0m\u001b[1;33m\u001b[0m\u001b[0m\n\u001b[0;32m      6\u001b[0m \u001b[1;32mimport\u001b[0m \u001b[0mplotly\u001b[0m\u001b[1;33m.\u001b[0m\u001b[0mgraph_objects\u001b[0m \u001b[1;32mas\u001b[0m \u001b[0mgo\u001b[0m\u001b[1;33m\u001b[0m\u001b[1;33m\u001b[0m\u001b[0m\n",
      "\u001b[1;31mModuleNotFoundError\u001b[0m: No module named 'pandas_datareader'"
     ]
    }
   ],
   "source": [
    "import numpy as np\n",
    "import pandas as pd\n",
    "import matplotlib.pyplot as plt\n",
    "import pandas_datareader.data as web\n",
    "from datetime import date\n",
    "import plotly.graph_objects as go\n",
    "\n",
    "#!pip install yfinance --upgrade --no-cache-dir\n",
    "import yfinance as yf\n",
    "yf.pdr_override()\n",
    "\n",
    "\n",
    "acao = input(f'Qual a AÇÃO:')+'.SA'\n",
    "ticker = web.get_data_yahoo(acao, period='1y')\n",
    "ticker2 = web.get_data_yahoo(acao, period='1y')\n",
    "print(acao.upper())\n",
    "\n",
    "\n",
    "\n",
    "# GRÁFICO 01 / PERÍODO: 1 ANO\n",
    "ticker['Adj Close'].plot(figsize=(22,8), label=acao.upper())\n",
    "ticker['Adj Close'].rolling(100).mean().plot(label='Média 100 dias')\n",
    "plt.legend()\n",
    "print(f'DATA FINAL: {date.today()}')\n",
    "\n",
    "df = pd.DataFrame(ticker)\n",
    "df.insert(loc=0,column='Data',value=df.index)\n",
    "\n",
    "\n",
    "\n",
    "\n",
    "# GRÁFICO 02 / PERÍODO: 6 MESES\n",
    "df = pd.DataFrame(ticker2)\n",
    "df.insert(loc=0,column='Data',value=df.index)\n",
    "\n",
    "fig = go.Figure(data=[go.Candlestick(\n",
    "                x=ticker2['Data'],\n",
    "                open=ticker2['Open'],\n",
    "                high=ticker2['High'],\n",
    "                low=ticker2['Low'],\n",
    "                close=ticker2['Adj Close'])])\n",
    "fig.update_layout(\n",
    "    xaxis_rangeslider_visible=False,\n",
    "    title=acao.upper(),\n",
    "    yaxis_title='VALOR R$',\n",
    "    )\n",
    "fig.show()"
   ]
  },
  {
   "cell_type": "code",
   "execution_count": null,
   "id": "30427fe1",
   "metadata": {},
   "outputs": [],
   "source": []
  }
 ],
 "metadata": {
  "kernelspec": {
   "display_name": "Python 3",
   "language": "python",
   "name": "python3"
  },
  "language_info": {
   "codemirror_mode": {
    "name": "ipython",
    "version": 3
   },
   "file_extension": ".py",
   "mimetype": "text/x-python",
   "name": "python",
   "nbconvert_exporter": "python",
   "pygments_lexer": "ipython3",
   "version": "3.8.8"
  }
 },
 "nbformat": 4,
 "nbformat_minor": 5
}
