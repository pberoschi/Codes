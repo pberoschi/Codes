{
 "cells": [
  {
   "cell_type": "code",
   "execution_count": 71,
   "id": "a7c6f1b5",
   "metadata": {
    "scrolled": true
   },
   "outputs": [
    {
     "name": "stdout",
     "output_type": "stream",
     "text": [
      "Buscando dados...2021-12-06 15:09:25.815940\n",
      "WINZ21\n"
     ]
    },
    {
     "data": {
      "text/html": [
       "<div>\n",
       "<style scoped>\n",
       "    .dataframe tbody tr th:only-of-type {\n",
       "        vertical-align: middle;\n",
       "    }\n",
       "\n",
       "    .dataframe tbody tr th {\n",
       "        vertical-align: top;\n",
       "    }\n",
       "\n",
       "    .dataframe thead th {\n",
       "        text-align: right;\n",
       "    }\n",
       "</style>\n",
       "<table border=\"1\" class=\"dataframe\">\n",
       "  <thead>\n",
       "    <tr style=\"text-align: right;\">\n",
       "      <th></th>\n",
       "      <th>time</th>\n",
       "      <th>open</th>\n",
       "      <th>close</th>\n",
       "    </tr>\n",
       "  </thead>\n",
       "  <tbody>\n",
       "    <tr>\n",
       "      <th>108</th>\n",
       "      <td>2021-12-06 14:45:00</td>\n",
       "      <td>107330.0</td>\n",
       "      <td>107530.0</td>\n",
       "    </tr>\n",
       "    <tr>\n",
       "      <th>109</th>\n",
       "      <td>2021-12-06 14:50:00</td>\n",
       "      <td>107525.0</td>\n",
       "      <td>107520.0</td>\n",
       "    </tr>\n",
       "    <tr>\n",
       "      <th>110</th>\n",
       "      <td>2021-12-06 14:55:00</td>\n",
       "      <td>107515.0</td>\n",
       "      <td>107715.0</td>\n",
       "    </tr>\n",
       "    <tr>\n",
       "      <th>111</th>\n",
       "      <td>2021-12-06 15:00:00</td>\n",
       "      <td>107715.0</td>\n",
       "      <td>107555.0</td>\n",
       "    </tr>\n",
       "    <tr>\n",
       "      <th>112</th>\n",
       "      <td>2021-12-06 15:05:00</td>\n",
       "      <td>107560.0</td>\n",
       "      <td>107490.0</td>\n",
       "    </tr>\n",
       "  </tbody>\n",
       "</table>\n",
       "</div>"
      ],
      "text/plain": [
       "                   time      open     close\n",
       "108 2021-12-06 14:45:00  107330.0  107530.0\n",
       "109 2021-12-06 14:50:00  107525.0  107520.0\n",
       "110 2021-12-06 14:55:00  107515.0  107715.0\n",
       "111 2021-12-06 15:00:00  107715.0  107555.0\n",
       "112 2021-12-06 15:05:00  107560.0  107490.0"
      ]
     },
     "execution_count": 71,
     "metadata": {},
     "output_type": "execute_result"
    }
   ],
   "source": [
    "# RESERVA COM CONFIRMAÇÃO e SCALPING AUTOMATICO\n",
    "# COM MACD e SETUP 9.1\n",
    "\n",
    "from datetime import datetime\n",
    "import MetaTrader5 as mt5\n",
    "import time\n",
    "import telepot\n",
    "import pytz\n",
    "\n",
    "agora = datetime.now()\n",
    "print(f'Buscando dados...{agora}')\n",
    "# importamos o módulo pandas para exibir os dados recebidos na forma de uma tabela\n",
    "import pandas as pd\n",
    "pd.set_option('display.max_columns', 500) # número de colunas\n",
    "pd.set_option('display.width', 1500)      # largura máxima da tabela\n",
    "pd.options.mode.chained_assignment = None  # default='warn'\n",
    "\n",
    "\n",
    "if not mt5.initialize(login=1092947504, server=\"ClearInvestimentos-DEMO\", password=\"Joh0516\"):\n",
    "#if not mt5.initialize(login=54679378, server=\"MetaQuotes-Demo\", password=\"hz7ulfri\"):\n",
    "    print(\"initialize() failed, error code =\",mt5.last_error())\n",
    "    quit()\n",
    "\n",
    "# CRIAÇÃO DAS ORDENS ABERTURA E FECHAMENTO\n",
    "symbol = \"WINZ21\"\n",
    "\n",
    "print(symbol)\n",
    "    \n",
    "# CRIAÇÃO DOS CÁLCULOS (MÉDIAS)\n",
    "timezone = pytz.timezone(\"Etc/UTC\")\n",
    "utc_from = datetime(2021, 12, 7, tzinfo=timezone)\n",
    "rates = mt5.copy_rates_from(symbol, mt5.TIMEFRAME_M5, utc_from, 113)\n",
    "rates_frame = pd.DataFrame(rates)\n",
    "rates_frame['time']=pd.to_datetime(rates_frame['time'], unit='s')\n",
    "resumo = rates_frame[['time','open','close']]\n",
    "resumo.tail()\n"
   ]
  },
  {
   "cell_type": "code",
   "execution_count": 77,
   "id": "0e3cca54",
   "metadata": {
    "scrolled": false
   },
   "outputs": [
    {
     "data": {
      "text/html": [
       "<div>\n",
       "<style scoped>\n",
       "    .dataframe tbody tr th:only-of-type {\n",
       "        vertical-align: middle;\n",
       "    }\n",
       "\n",
       "    .dataframe tbody tr th {\n",
       "        vertical-align: top;\n",
       "    }\n",
       "\n",
       "    .dataframe thead th {\n",
       "        text-align: right;\n",
       "    }\n",
       "</style>\n",
       "<table border=\"1\" class=\"dataframe\">\n",
       "  <thead>\n",
       "    <tr style=\"text-align: right;\">\n",
       "      <th></th>\n",
       "      <th>time</th>\n",
       "      <th>open</th>\n",
       "      <th>close</th>\n",
       "    </tr>\n",
       "  </thead>\n",
       "  <tbody>\n",
       "    <tr>\n",
       "      <th>108</th>\n",
       "      <td>2021-12-06 14:45:00</td>\n",
       "      <td>107330.0</td>\n",
       "      <td>107530.0</td>\n",
       "    </tr>\n",
       "    <tr>\n",
       "      <th>109</th>\n",
       "      <td>2021-12-06 14:50:00</td>\n",
       "      <td>107525.0</td>\n",
       "      <td>107520.0</td>\n",
       "    </tr>\n",
       "    <tr>\n",
       "      <th>110</th>\n",
       "      <td>2021-12-06 14:55:00</td>\n",
       "      <td>107515.0</td>\n",
       "      <td>107715.0</td>\n",
       "    </tr>\n",
       "    <tr>\n",
       "      <th>111</th>\n",
       "      <td>2021-12-06 15:00:00</td>\n",
       "      <td>107715.0</td>\n",
       "      <td>107555.0</td>\n",
       "    </tr>\n",
       "    <tr>\n",
       "      <th>112</th>\n",
       "      <td>2021-12-06 15:05:00</td>\n",
       "      <td>107560.0</td>\n",
       "      <td>107490.0</td>\n",
       "    </tr>\n",
       "  </tbody>\n",
       "</table>\n",
       "</div>"
      ],
      "text/plain": [
       "                   time      open     close\n",
       "108 2021-12-06 14:45:00  107330.0  107530.0\n",
       "109 2021-12-06 14:50:00  107525.0  107520.0\n",
       "110 2021-12-06 14:55:00  107515.0  107715.0\n",
       "111 2021-12-06 15:00:00  107715.0  107555.0\n",
       "112 2021-12-06 15:05:00  107560.0  107490.0"
      ]
     },
     "execution_count": 77,
     "metadata": {},
     "output_type": "execute_result"
    }
   ],
   "source": [
    "resumo1 = resumo.tail()\n",
    "#resumo1 = resumo[resumo['time'].between('2021-12-06 11:30:00', '2021-12-06 11:40:00')]\n",
    "resumo1"
   ]
  },
  {
   "cell_type": "code",
   "execution_count": 78,
   "id": "0d2c9fc1",
   "metadata": {},
   "outputs": [
    {
     "name": "stdout",
     "output_type": "stream",
     "text": [
      "LTB\n"
     ]
    }
   ],
   "source": [
    "resumo = resumo1\n",
    "if resumo1['close'].iloc[-1] > resumo1['close'].iloc[-2] > resumo1['close'].iloc[-3]:\n",
    "    print('LTA')\n",
    "elif resumo1['close'].iloc[-1] < resumo1['close'].iloc[-2] < resumo1['close'].iloc[-3]:\n",
    "    print('LTB')\n",
    "else:\n",
    "    print('Consolidado(Lateralizado)')"
   ]
  },
  {
   "cell_type": "code",
   "execution_count": 24,
   "id": "c3698475",
   "metadata": {},
   "outputs": [],
   "source": [
    "LTAultimo = resumo['close'].iloc[-1]\n",
    "LTApenultimo = resumo['close'].iloc[-2]\n",
    "LTAantep = resumo['close'].iloc[-3]\n",
    "\n",
    "LTBultimo = resumo['close'].iloc[-1]\n",
    "LTBpenultimo = resumo['close'].iloc[-2]\n",
    "LTBantep = resumo['close'].iloc[-3]"
   ]
  },
  {
   "cell_type": "code",
   "execution_count": 25,
   "id": "6ad52bc8",
   "metadata": {},
   "outputs": [
    {
     "name": "stdout",
     "output_type": "stream",
     "text": [
      "107460.0\n",
      "107425.0\n",
      "107485.0\n",
      "\n",
      "107460.0\n",
      "107425.0\n",
      "107485.0\n"
     ]
    }
   ],
   "source": [
    "print(LTAultimo)\n",
    "print(LTApenultimo)\n",
    "print(LTAantep)\n",
    "print('')\n",
    "print(LTBultimo)\n",
    "print(LTBpenultimo)\n",
    "print(LTBantep)\n"
   ]
  },
  {
   "cell_type": "code",
   "execution_count": 26,
   "id": "0f9e636b",
   "metadata": {},
   "outputs": [
    {
     "name": "stdout",
     "output_type": "stream",
     "text": [
      "False\n",
      "False\n"
     ]
    }
   ],
   "source": [
    "LTA = LTAultimo > LTApenultimo > LTAantep\n",
    "LTB = LTBultimo < LTBpenultimo < LTBantep\n",
    "\n",
    "print(LTA)\n",
    "print(LTB)"
   ]
  }
 ],
 "metadata": {
  "kernelspec": {
   "display_name": "Python 3",
   "language": "python",
   "name": "python3"
  },
  "language_info": {
   "codemirror_mode": {
    "name": "ipython",
    "version": 3
   },
   "file_extension": ".py",
   "mimetype": "text/x-python",
   "name": "python",
   "nbconvert_exporter": "python",
   "pygments_lexer": "ipython3",
   "version": "3.8.8"
  }
 },
 "nbformat": 4,
 "nbformat_minor": 5
}
