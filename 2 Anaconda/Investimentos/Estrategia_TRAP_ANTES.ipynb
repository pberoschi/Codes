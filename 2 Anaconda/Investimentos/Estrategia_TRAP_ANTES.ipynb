{
 "cells": [
  {
   "cell_type": "code",
   "execution_count": null,
   "id": "f2022515",
   "metadata": {
    "scrolled": true
   },
   "outputs": [],
   "source": [
    "from datetime import datetime\n",
    "import MetaTrader5 as mt5\n",
    "import time\n",
    "import telepot\n",
    "import pytz\n",
    "\n",
    "# importamos o módulo pandas para exibir os dados recebidos na forma de uma tabela\n",
    "import pandas as pd\n",
    "pd.set_option('display.max_columns', 500) # número de colunas\n",
    "pd.set_option('display.width', 1500)      # largura máxima da tabela\n",
    "pd.options.mode.chained_assignment = None  # default='warn'\n",
    "\n",
    "if not mt5.initialize(login=1092947504, server=\"ClearInvestimentos-DEMO\", password=\"Joh0516\"):\n",
    "#if not mt5.initialize(login=4999473749, server=\"MetaQuotes-Demo\", password=\"elf4lnbx\"):\n",
    "    print(\"initialize() failed, error code =\",mt5.last_error())\n",
    "    quit()\n",
    "    \n",
    "\n",
    "def run():\n",
    "    symbols = ['WDOG22','WING22']\n",
    "    \n",
    "    for symbol in symbols:\n",
    "        print(symbol)\n",
    "        rates10 = mt5.copy_rates_from_pos(symbol, mt5.TIMEFRAME_M15, 0, 800)\n",
    "        rates_frame10 = pd.DataFrame(rates10)\n",
    "        rates_frame10['time']=pd.to_datetime(rates_frame10['time'], unit='s')\n",
    "        resumo10 = rates_frame10[['time','open','high','low','close','tick_volume']]\n",
    "        resumo10R = resumo10.tail(4)\n",
    "        #print(resumo10.head(3))\n",
    "        #print('')\n",
    "\n",
    "        rates1 = mt5.copy_rates_from_pos(symbol, mt5.TIMEFRAME_M1, 0, 780)\n",
    "        rates_frame1 = pd.DataFrame(rates1)\n",
    "        rates_frame1['time']=pd.to_datetime(rates_frame1['time'], unit='s')\n",
    "        resumo1 = rates_frame1[['time','open','high','low','close','tick_volume']]\n",
    "        resumo1R = resumo1.tail(4)\n",
    "        #print(resumo1.head(3))\n",
    "        df1 = resumo1R\n",
    "        df3 = resumo10R\n",
    "        result = df1.append(df3)\n",
    "\n",
    "        OitentaMME = resumo10['close'].ewm(span=80).mean()\n",
    "        OitoMME = resumo10['close'].ewm(span=8).mean()\n",
    "\n",
    "        result.insert(loc=6,column='MME 8',value=OitoMME)\n",
    "        result.insert(loc=7,column='MME 80',value=OitentaMME)\n",
    "\n",
    "        result['sinal'] = ''\n",
    "\n",
    "        if (result['high'].iloc[-3] < result['high'].iloc[-2]) & (result['close'].iloc[-5] < result['high'].iloc[-2]):\n",
    "            if result['MME 8'].iloc[-1] < result['MME 80'].iloc[-1]:\n",
    "                result['sinal'].iloc[-1] = f'VENDA ({symbol})'\n",
    "                #bot = telepot.Bot('5026686955:AAHvm0rJOf-_nSCi8sOHYVMhY8zPCBEd73k')\n",
    "                #bot.sendMessage(984798692, f'ESTRATÉGIA TRAP: VENDA >> {symbol} <<')\n",
    "            else:\n",
    "                result['sinal'].iloc[-1] = 'VENDA: NAM' #NÃO ATENDE MÉDIA\n",
    "\n",
    "        elif (result['low'].iloc[-3] > result['low'].iloc[-2]) & (result['close'].iloc[-5] > result['low'].iloc[-2]):\n",
    "            if result['MME 8'].iloc[-1] > result['MME 80'].iloc[-1]:\n",
    "                result['sinal'].iloc[-1] = f'COMPRA ({symbol})'\n",
    "                #bot = telepot.Bot('5026686955:AAHvm0rJOf-_nSCi8sOHYVMhY8zPCBEd73k')\n",
    "                #bot.sendMessage(984798692, f'ESTRATÉGIA TRAP: COMPRA >> {symbol} <<')  \n",
    "            else:\n",
    "                result['sinal'].iloc[-1] = 'COMPRA NAM' #NÃO ATENDE MÉDIA\n",
    "        else:\n",
    "            result['sinal'].iloc[-1] = f'MONITORANDO...{symbol})'\n",
    "\n",
    "        display(result.tail(10))\n",
    "\n",
    "while True:\n",
    "    run()\n",
    "    time.sleep(10)"
   ]
  },
  {
   "cell_type": "code",
   "execution_count": null,
   "id": "dd932270",
   "metadata": {},
   "outputs": [],
   "source": []
  },
  {
   "cell_type": "code",
   "execution_count": null,
   "id": "d84d8d63",
   "metadata": {},
   "outputs": [],
   "source": []
  },
  {
   "cell_type": "code",
   "execution_count": null,
   "id": "214f1fb3",
   "metadata": {},
   "outputs": [],
   "source": []
  },
  {
   "cell_type": "code",
   "execution_count": null,
   "id": "dc122350",
   "metadata": {},
   "outputs": [],
   "source": []
  },
  {
   "cell_type": "code",
   "execution_count": null,
   "id": "1bae459b",
   "metadata": {},
   "outputs": [],
   "source": []
  },
  {
   "cell_type": "code",
   "execution_count": null,
   "id": "d3f44b70",
   "metadata": {},
   "outputs": [],
   "source": []
  },
  {
   "cell_type": "code",
   "execution_count": null,
   "id": "864a23dd",
   "metadata": {},
   "outputs": [],
   "source": []
  },
  {
   "cell_type": "code",
   "execution_count": null,
   "id": "e530fce6",
   "metadata": {},
   "outputs": [],
   "source": []
  },
  {
   "cell_type": "code",
   "execution_count": null,
   "id": "c2a9f2f5",
   "metadata": {},
   "outputs": [],
   "source": []
  },
  {
   "cell_type": "code",
   "execution_count": null,
   "id": "573b6f5b",
   "metadata": {},
   "outputs": [],
   "source": []
  },
  {
   "cell_type": "code",
   "execution_count": null,
   "id": "ca6ee9ac",
   "metadata": {},
   "outputs": [],
   "source": []
  },
  {
   "cell_type": "code",
   "execution_count": null,
   "id": "2cc8d179",
   "metadata": {},
   "outputs": [],
   "source": []
  }
 ],
 "metadata": {
  "kernelspec": {
   "display_name": "Python 3",
   "language": "python",
   "name": "python3"
  },
  "language_info": {
   "codemirror_mode": {
    "name": "ipython",
    "version": 3
   },
   "file_extension": ".py",
   "mimetype": "text/x-python",
   "name": "python",
   "nbconvert_exporter": "python",
   "pygments_lexer": "ipython3",
   "version": "3.8.8"
  }
 },
 "nbformat": 4,
 "nbformat_minor": 5
}
