{
 "cells": [
  {
   "cell_type": "code",
   "execution_count": null,
   "id": "f1922643",
   "metadata": {
    "scrolled": false
   },
   "outputs": [],
   "source": [
    "#https://www.youtube.com/watch?v=TERKvqfySYI&t=1067s\n",
    "\n",
    "import pyautogui as py\n",
    "import time\n",
    "from datetime import datetime\n",
    "import shutil\n",
    "import telepot\n",
    "from time import sleep\n",
    "\n",
    "\n",
    "def run():\n",
    "    \n",
    "    filename = 'Negocios.txt'\n",
    "    f =open(filename, \"w\")\n",
    "\n",
    "    #Azul = py.pixelMatchesColor(39, 15, (0, 0, 157))\n",
    "    Azul = py.pixelMatchesColor(43, 18, (0, 27, 190))\n",
    "    #Amarelo = py.pixelMatchesColor(39, 15, (241, 195, 241))\n",
    "    Amarelo = py.pixelMatchesColor(43, 18, (248, 247, 182))\n",
    "    RGB = list(py.pixel(39, 15))\n",
    "    RGB = str(RGB[2])\n",
    "\n",
    "    #print(RGB)\n",
    "    f.write(RGB) \n",
    "    f.close()\n",
    "\n",
    "    # >>> COMPARAÇÃO <<< #\n",
    "\n",
    "    s=open('Negocios.txt', 'r', encoding=\"utf8\")\n",
    "    try:\n",
    "        o=open('Negocios2.txt','r', encoding=\"utf8\")\n",
    "    except:\n",
    "        shutil.copy('Negocios.txt', 'Negocios2.txt')\n",
    "        o=open('Negocios2.txt','r', encoding=\"utf8\")\n",
    "\n",
    "    dadoS = s.read()\n",
    "    dadoO = o.read()\n",
    "\n",
    "    #print(dadoS)\n",
    "    #print(dadoO)\n",
    "\n",
    "    if dadoS != dadoO:\n",
    "        if dadoS == '157':\n",
    "            print('Compra')\n",
    "        elif dadoS == '182':\n",
    "            print('Venda')\n",
    "\n",
    "    s.close()\n",
    "    o.close()\n",
    "\n",
    "    shutil.copy('Negocios.txt', 'Negocios2.txt')\n",
    "    print('.')\n",
    "\n",
    "while True:\n",
    "    run()\n",
    "    sleep(2)"
   ]
  },
  {
   "cell_type": "code",
   "execution_count": null,
   "id": "d92c44b4",
   "metadata": {},
   "outputs": [],
   "source": []
  },
  {
   "cell_type": "code",
   "execution_count": null,
   "id": "f235b55e",
   "metadata": {},
   "outputs": [],
   "source": []
  },
  {
   "cell_type": "code",
   "execution_count": null,
   "id": "c772414a",
   "metadata": {},
   "outputs": [],
   "source": []
  },
  {
   "cell_type": "code",
   "execution_count": null,
   "id": "0d725ced",
   "metadata": {},
   "outputs": [],
   "source": []
  },
  {
   "cell_type": "code",
   "execution_count": null,
   "id": "148437aa",
   "metadata": {
    "scrolled": true
   },
   "outputs": [],
   "source": [
    "import pyautogui as py\n",
    "py.position()"
   ]
  },
  {
   "cell_type": "code",
   "execution_count": null,
   "id": "12335dc8",
   "metadata": {},
   "outputs": [],
   "source": [
    "pix = py.pixel(43, 18)\n",
    "pix"
   ]
  }
 ],
 "metadata": {
  "kernelspec": {
   "display_name": "Python 3",
   "language": "python",
   "name": "python3"
  },
  "language_info": {
   "codemirror_mode": {
    "name": "ipython",
    "version": 3
   },
   "file_extension": ".py",
   "mimetype": "text/x-python",
   "name": "python",
   "nbconvert_exporter": "python",
   "pygments_lexer": "ipython3",
   "version": "3.8.8"
  },
  "vscode": {
   "interpreter": {
    "hash": "969114d77a9fa65b298994c427dc0f8884c1c3c2245848dd77ca01ec6bd32e0c"
   }
  }
 },
 "nbformat": 4,
 "nbformat_minor": 5
}
