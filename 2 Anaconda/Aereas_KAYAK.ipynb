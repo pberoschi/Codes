{
 "cells": [
  {
   "cell_type": "code",
   "execution_count": 1,
   "id": "24695fa3",
   "metadata": {
    "scrolled": false
   },
   "outputs": [
    {
     "ename": "NameError",
     "evalue": "name 'url' is not defined",
     "output_type": "error",
     "traceback": [
      "\u001b[1;31m---------------------------------------------------------------------------\u001b[0m",
      "\u001b[1;31mNameError\u001b[0m                                 Traceback (most recent call last)",
      "\u001b[1;32m<ipython-input-1-80c495605b59>\u001b[0m in \u001b[0;36m<module>\u001b[1;34m\u001b[0m\n\u001b[0;32m      5\u001b[0m \u001b[1;33m\u001b[0m\u001b[0m\n\u001b[0;32m      6\u001b[0m \u001b[0mheaders\u001b[0m \u001b[1;33m=\u001b[0m \u001b[1;33m{\u001b[0m\u001b[1;34m'User-Agent'\u001b[0m\u001b[1;33m:\u001b[0m\u001b[1;34m'Mozilla/5.0 (Windows NT 10.0; Win64; x64) AppleWebKit/537.36 (KHTML, like Gecko) Chrome/90.0.4430.212 Safari/537.36'\u001b[0m\u001b[1;33m}\u001b[0m\u001b[1;33m\u001b[0m\u001b[1;33m\u001b[0m\u001b[0m\n\u001b[1;32m----> 7\u001b[1;33m \u001b[0mr\u001b[0m \u001b[1;33m=\u001b[0m \u001b[0mrequests\u001b[0m\u001b[1;33m.\u001b[0m\u001b[0mget\u001b[0m\u001b[1;33m(\u001b[0m\u001b[0murl\u001b[0m\u001b[1;33m,\u001b[0m \u001b[0mheaders\u001b[0m\u001b[1;33m=\u001b[0m\u001b[0mheaders\u001b[0m\u001b[1;33m)\u001b[0m\u001b[1;33m\u001b[0m\u001b[1;33m\u001b[0m\u001b[0m\n\u001b[0m\u001b[0;32m      8\u001b[0m \u001b[0msoup\u001b[0m \u001b[1;33m=\u001b[0m \u001b[0mBeautifulSoup\u001b[0m\u001b[1;33m(\u001b[0m\u001b[0mr\u001b[0m\u001b[1;33m.\u001b[0m\u001b[0mcontent\u001b[0m\u001b[1;33m,\u001b[0m \u001b[1;34m'html.parser'\u001b[0m\u001b[1;33m)\u001b[0m\u001b[1;33m\u001b[0m\u001b[1;33m\u001b[0m\u001b[0m\n\u001b[0;32m      9\u001b[0m \u001b[1;33m\u001b[0m\u001b[0m\n",
      "\u001b[1;31mNameError\u001b[0m: name 'url' is not defined"
     ]
    }
   ],
   "source": [
    "import requests\n",
    "import pandas as pd\n",
    "from bs4 import BeautifulSoup\n",
    "#import selenium\n",
    "\n",
    "headers = {'User-Agent':'Mozilla/5.0 (Windows NT 10.0; Win64; x64) AppleWebKit/537.36 (KHTML, like Gecko) Chrome/90.0.4430.212 Safari/537.36'}\n",
    "r = requests.get(url, headers=headers)\n",
    "soup = BeautifulSoup(r.content, 'html.parser')\n",
    "\n",
    "origem = 'sao'\n",
    "destino = 'rio'\n",
    "#IDA\n",
    "anoIda = '2022'\n",
    "mesIda = '11'\n",
    "dataIda = '25'\n",
    "#VOLTA\n",
    "anoVolta = '2022'\n",
    "mesVolta = '12'\n",
    "dataVolta = '16'\n",
    "\n",
    "#url = f'https://www.kayak.com.br/flights/{origem}-{destino}/{anoIda}-{mesIda}-{dataIda}/{anoVolta}-{mesVolta}-{dataVolta}?sort=bestflight_a'\n",
    "#url = f'https://www.kayak.com.br/flights/{origem}-{destino}/{anoIda}-{mesIda}-{dataIda}?sort=bestflight_a'\n",
    "url = f'https://www.kayak.com.br/flights/SAO-RIO/2021-11-{dataIda}?sort=bestflight_a'\n",
    "\n",
    "preco = soup.find('span',{'class':'js-label js-price _itL _ibU _ibV _idj _kKW'}).text.strip()\n",
    "tempo = soup.find('span',{'class':'js-subLabel js-duration _ibU _ibV _idj _kLa _kLb _kLc _kLe _kKW'}).text.strip()\n",
    "empresa = soup.find('span',{'class':'codeshares-airline-names'}).text.strip()\n",
    "\n",
    "print('>>> MELHOR OPÇÃO <<<')\n",
    "print(f'Preço: {preco}')\n",
    "print(f'Duração: {tempo}')\n",
    "print(f'Empresa: {empresa}')\n"
   ]
  },
  {
   "cell_type": "code",
   "execution_count": 17,
   "id": "fda8d208",
   "metadata": {},
   "outputs": [
    {
     "name": "stdout",
     "output_type": "stream",
     "text": [
      "DIA: 25/10\n",
      ">>> MELHOR OPÇÃO <<<\n",
      "Preço: R$ 1.847\n",
      "Duração: 9h 40m\n",
      "Empresa: Avianca\n",
      "-------------------------\n",
      "DIA: 26/10\n",
      ">>> MELHOR OPÇÃO <<<\n",
      "Preço: R$ 1.846\n",
      "Duração: 9h 25m\n",
      "Empresa: United Airlines\n",
      "-------------------------\n"
     ]
    },
    {
     "ename": "AttributeError",
     "evalue": "'NoneType' object has no attribute 'text'",
     "output_type": "error",
     "traceback": [
      "\u001b[1;31m---------------------------------------------------------------------------\u001b[0m",
      "\u001b[1;31mAttributeError\u001b[0m                            Traceback (most recent call last)",
      "\u001b[1;32m<ipython-input-17-fc217bf0715f>\u001b[0m in \u001b[0;36m<module>\u001b[1;34m\u001b[0m\n\u001b[0;32m     18\u001b[0m     \u001b[0msoup\u001b[0m \u001b[1;33m=\u001b[0m \u001b[0mBeautifulSoup\u001b[0m\u001b[1;33m(\u001b[0m\u001b[0mr\u001b[0m\u001b[1;33m.\u001b[0m\u001b[0mcontent\u001b[0m\u001b[1;33m,\u001b[0m \u001b[1;34m'html.parser'\u001b[0m\u001b[1;33m)\u001b[0m\u001b[1;33m\u001b[0m\u001b[1;33m\u001b[0m\u001b[0m\n\u001b[0;32m     19\u001b[0m     \u001b[0mpreco\u001b[0m \u001b[1;33m=\u001b[0m \u001b[0msoup\u001b[0m\u001b[1;33m.\u001b[0m\u001b[0mfind\u001b[0m\u001b[1;33m(\u001b[0m\u001b[1;34m'span'\u001b[0m\u001b[1;33m,\u001b[0m\u001b[1;33m{\u001b[0m\u001b[1;34m'class'\u001b[0m\u001b[1;33m:\u001b[0m\u001b[1;34m'js-label js-price _itL _ibU _ibV _idj _kKW'\u001b[0m\u001b[1;33m}\u001b[0m\u001b[1;33m)\u001b[0m\u001b[1;33m.\u001b[0m\u001b[0mtext\u001b[0m\u001b[1;33m.\u001b[0m\u001b[0mstrip\u001b[0m\u001b[1;33m(\u001b[0m\u001b[1;33m)\u001b[0m\u001b[1;33m\u001b[0m\u001b[1;33m\u001b[0m\u001b[0m\n\u001b[1;32m---> 20\u001b[1;33m     \u001b[0mtempo\u001b[0m \u001b[1;33m=\u001b[0m \u001b[0msoup\u001b[0m\u001b[1;33m.\u001b[0m\u001b[0mfind\u001b[0m\u001b[1;33m(\u001b[0m\u001b[1;34m'span'\u001b[0m\u001b[1;33m,\u001b[0m\u001b[1;33m{\u001b[0m\u001b[1;34m'class'\u001b[0m\u001b[1;33m:\u001b[0m\u001b[1;34m'js-subLabel js-duration _ibU _ibV _idj _kLa _kLb _kLc _kLe _kKW'\u001b[0m\u001b[1;33m}\u001b[0m\u001b[1;33m)\u001b[0m\u001b[1;33m.\u001b[0m\u001b[0mtext\u001b[0m\u001b[1;33m.\u001b[0m\u001b[0mstrip\u001b[0m\u001b[1;33m(\u001b[0m\u001b[1;33m)\u001b[0m\u001b[1;33m\u001b[0m\u001b[1;33m\u001b[0m\u001b[0m\n\u001b[0m\u001b[0;32m     21\u001b[0m     \u001b[0mempresa\u001b[0m \u001b[1;33m=\u001b[0m \u001b[0msoup\u001b[0m\u001b[1;33m.\u001b[0m\u001b[0mfind\u001b[0m\u001b[1;33m(\u001b[0m\u001b[1;34m'span'\u001b[0m\u001b[1;33m,\u001b[0m\u001b[1;33m{\u001b[0m\u001b[1;34m'class'\u001b[0m\u001b[1;33m:\u001b[0m\u001b[1;34m'codeshares-airline-names'\u001b[0m\u001b[1;33m}\u001b[0m\u001b[1;33m)\u001b[0m\u001b[1;33m.\u001b[0m\u001b[0mtext\u001b[0m\u001b[1;33m.\u001b[0m\u001b[0mstrip\u001b[0m\u001b[1;33m(\u001b[0m\u001b[1;33m)\u001b[0m\u001b[1;33m\u001b[0m\u001b[1;33m\u001b[0m\u001b[0m\n\u001b[0;32m     22\u001b[0m \u001b[1;33m\u001b[0m\u001b[0m\n",
      "\u001b[1;31mAttributeError\u001b[0m: 'NoneType' object has no attribute 'text'"
     ]
    }
   ],
   "source": [
    "# LISTA DE DATAS\n",
    "\n",
    "import requests\n",
    "import pandas as pd\n",
    "from bs4 import BeautifulSoup\n",
    "\n",
    "origem = 'SAO'\n",
    "destino = 'NYC'\n",
    "#IDA\n",
    "anoIda = '2021'\n",
    "mesIda = '10'\n",
    "dataIda = list(range(25,28))\n",
    "\n",
    "for x in range(25,28):\n",
    "    headers = {'User-Agent':'Mozilla/5.0 (Windows NT 10.0; Win64; x64) AppleWebKit/537.36 (KHTML, like Gecko) Chrome/90.0.4430.212 Safari/537.36'}\n",
    "    url = f'https://www.kayak.com.br/flights/{origem}-{destino}/{anoIda}-{mesIda}-{x}?sort=bestflight_a'\n",
    "    r = requests.get(url, headers=headers)\n",
    "    soup = BeautifulSoup(r.content, 'html.parser')\n",
    "    preco = soup.find('span',{'class':'js-label js-price _itL _ibU _ibV _idj _kKW'}).text.strip()\n",
    "    tempo = soup.find('span',{'class':'js-subLabel js-duration _ibU _ibV _idj _kLa _kLb _kLc _kLe _kKW'}).text.strip()\n",
    "    empresa = soup.find('span',{'class':'codeshares-airline-names'}).text.strip()\n",
    "    \n",
    "    print(f'DIA: {x}/{mesIda}')\n",
    "    print('>>> MELHOR OPÇÃO <<<')\n",
    "    print(f'Preço: {preco}')\n",
    "    print(f'Duração: {tempo}')\n",
    "    print(f'Empresa: {empresa}')\n",
    "    print('-'*25)\n",
    "    \n",
    "print('*** FIM DA BUSCA ***')"
   ]
  },
  {
   "cell_type": "code",
   "execution_count": null,
   "id": "f63ab4c5",
   "metadata": {},
   "outputs": [],
   "source": []
  },
  {
   "cell_type": "code",
   "execution_count": null,
   "id": "855737f0",
   "metadata": {},
   "outputs": [],
   "source": [
    "### OUTRAS OPÇÕES ###"
   ]
  },
  {
   "cell_type": "code",
   "execution_count": null,
   "id": "461fff9b",
   "metadata": {},
   "outputs": [],
   "source": [
    "precoBest = best.find('span',{'class':'js-label js-price _itL _ibU _ibV _idj _kKW'}).text.strip()\n",
    "tempoBest = best.find('span',{'class':'js-subLabel js-duration _ibU _ibV _idj _kLa _kLb _kLc _kLe _kKW'}).text.strip()\n",
    "print('>>> MELHOR OPÇÃO <<<')\n",
    "print(f'Preço: {precoBest}')\n",
    "print(f'Duração: {tempoBest}')\n",
    "print('-'*20)\n",
    "\n",
    "precoDown = maisDown.find('span',{'class':'js-label'}).text.strip()\n",
    "tempoDown = maisDown.find('span',{'class':'js-subLabel'}).text.strip()\n",
    "print('*** MENOR PREÇO ***')\n",
    "print(f'Preço: {precoDown}')\n",
    "print(f'Duração: {tempoDown}')\n",
    "print('-'*20)\n",
    "\n",
    "precoUp = maisUP.find('span',{'class':'js-label js-price _itL _ibU _ibV _idj _kK7'}).text.strip()\n",
    "tempoUp = maisUP.find('span',{'class':'js-subLabel js-duration _ibU _ibV _idj _kLa _kLb _kLc _kLe _kK7'}).text.strip()\n",
    "print('*** MAIS RÁPIDO PREÇO ***')\n",
    "print(f'Preço: {precoUp}')\n",
    "print(f'Duração: {tempoUp}')\n",
    "#print('-'*20)"
   ]
  },
  {
   "cell_type": "code",
   "execution_count": null,
   "id": "2f4bf9f2",
   "metadata": {},
   "outputs": [],
   "source": []
  },
  {
   "cell_type": "code",
   "execution_count": null,
   "id": "b655aedc",
   "metadata": {},
   "outputs": [],
   "source": []
  }
 ],
 "metadata": {
  "kernelspec": {
   "display_name": "Python 3",
   "language": "python",
   "name": "python3"
  },
  "language_info": {
   "codemirror_mode": {
    "name": "ipython",
    "version": 3
   },
   "file_extension": ".py",
   "mimetype": "text/x-python",
   "name": "python",
   "nbconvert_exporter": "python",
   "pygments_lexer": "ipython3",
   "version": "3.8.8"
  }
 },
 "nbformat": 4,
 "nbformat_minor": 5
}
