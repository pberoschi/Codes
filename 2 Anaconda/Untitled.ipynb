{
 "cells": [
  {
   "cell_type": "code",
   "execution_count": 22,
   "id": "698c3d28",
   "metadata": {},
   "outputs": [],
   "source": [
    "from vimeo_downloader import Vimeo\n",
    "v = Vimeo('https://player.vimeo.com/video/808512122', embedded_on='https://portal.projetoos10porcento.com.br/curso/bolsa-do-zero/31978/171163')"
   ]
  },
  {
   "cell_type": "code",
   "execution_count": 23,
   "id": "cea47bfb",
   "metadata": {
    "scrolled": true
   },
   "outputs": [
    {
     "ename": "IndexError",
     "evalue": "list index out of range",
     "output_type": "error",
     "traceback": [
      "\u001b[1;31m---------------------------------------------------------------------------\u001b[0m",
      "\u001b[1;31mIndexError\u001b[0m                                Traceback (most recent call last)",
      "Cell \u001b[1;32mIn[23], line 2\u001b[0m\n\u001b[0;32m      1\u001b[0m \u001b[38;5;66;03m#v.streams\u001b[39;00m\n\u001b[1;32m----> 2\u001b[0m \u001b[43mv\u001b[49m\u001b[38;5;241;43m.\u001b[39;49m\u001b[43mstreams\u001b[49m\u001b[43m[\u001b[49m\u001b[38;5;241;43m2\u001b[39;49m\u001b[43m]\u001b[49m\u001b[38;5;241m.\u001b[39mdownload(download_directory\u001b[38;5;241m=\u001b[39m\u001b[38;5;124m'\u001b[39m\u001b[38;5;124mC:\u001b[39m\u001b[38;5;124m'\u001b[39m,filename\u001b[38;5;241m=\u001b[39m\u001b[38;5;124m'\u001b[39m\u001b[38;5;124mFileName\u001b[39m\u001b[38;5;124m'\u001b[39m)\n",
      "\u001b[1;31mIndexError\u001b[0m: list index out of range"
     ]
    }
   ],
   "source": [
    "#v.streams\n",
    "v.streams[2].download(download_directory='C:',filename='FileName')"
   ]
  },
  {
   "cell_type": "code",
   "execution_count": 9,
   "id": "67614223",
   "metadata": {},
   "outputs": [
    {
     "data": {
      "text/plain": [
       "[]"
      ]
     },
     "execution_count": 9,
     "metadata": {},
     "output_type": "execute_result"
    }
   ],
   "source": [
    "s = v.streams\n"
   ]
  },
  {
   "cell_type": "code",
   "execution_count": null,
   "id": "c8be9744",
   "metadata": {},
   "outputs": [],
   "source": []
  },
  {
   "cell_type": "code",
   "execution_count": null,
   "id": "c4f543fd",
   "metadata": {},
   "outputs": [],
   "source": [
    "[Stream(240p), Stream(360p), Stream(540p), Stream(720p), Stream(1080p)]\n",
    "best_stream = s[-1]  # Select the best stream\n",
    "best_stream.filesize\n",
    "'166.589421 MB'\n",
    "best_stream.direct_url\n",
    "'https://vod-progressive.akamaized.net.../2298326263.mp4'\n",
    "best_stream.download(download_directory='DirectoryName',filename='FileName')\n",
    "# Download video with progress bar and other information,\n",
    "# to disable this behaviour use mute=True"
   ]
  },
  {
   "cell_type": "code",
   "execution_count": null,
   "id": "fccb2eb7",
   "metadata": {},
   "outputs": [],
   "source": []
  },
  {
   "cell_type": "code",
   "execution_count": null,
   "id": "0c5814ba",
   "metadata": {},
   "outputs": [],
   "source": []
  },
  {
   "cell_type": "code",
   "execution_count": 27,
   "id": "4670708a",
   "metadata": {},
   "outputs": [
    {
     "data": {
      "text/plain": [
       "[]"
      ]
     },
     "execution_count": 27,
     "metadata": {},
     "output_type": "execute_result"
    }
   ],
   "source": [
    "from vimeo_downloader import Vimeo\n",
    "\n",
    "# Replace these two variables to different URL to download that video\n",
    "vimeo_url = 'https://player.vimeo.com/video/808512122'\n",
    "embedded_on = 'https://portal.projetoos10porcento.com.br/curso/bolsa-do-zero/31978/171163'\n",
    "# embedded_on is  the URL of site video is embedded on without query parameters.\n",
    "\n",
    "v = Vimeo(vimeo_url, embedded_on)\n",
    "\n",
    "stream = v.streams  # List of available streams of different quality\n",
    "# >> [Stream(240p), Stream(360p), Stream(540p), Stream(720p), Stream(1080p)]\n",
    "\n",
    "stream"
   ]
  },
  {
   "cell_type": "code",
   "execution_count": null,
   "id": "446f3083",
   "metadata": {},
   "outputs": [],
   "source": [
    "# Download best stream\n",
    "stream[-1].download(download_directory='video', filename='test_stream')\n",
    "\n",
    "# Download video of particular quality, example '540p'\n",
    "for s in stream:\n",
    "    if s.quality == '540p':\n",
    "        s.download(download_directory='video', filename='test_stream')\n",
    "        break\n",
    "else:  # If loop never breaks\n",
    "    print(\"Quality not found\")"
   ]
  },
  {
   "cell_type": "code",
   "execution_count": 30,
   "id": "40168349",
   "metadata": {},
   "outputs": [
    {
     "name": "stderr",
     "output_type": "stream",
     "text": [
      "Linha de comando muito longa.\n"
     ]
    }
   ],
   "source": [
    "!python3 vimeo-downloader.py <script>window.playerConfig = {\"cdn_url\":\"https://f.vimeocdn.com\",\"vimeo_api_url\":\"api.vimeo.com\",\"request\":{\"files\":{\"dash\":{\"cdns\":{\"akfire_interconnect_quic\":{\"avc_url\":\"https://125vod-adaptive.akamaized.net/exp=1689729214~acl=%2F93f45b6b-903b-4580-a096-d15adc80600c%2F%2A~hmac=0f6739ed064221771682395c678f34bea3e69c648b716cc12ea7a98700729dc8/93f45b6b-903b-4580-a096-d15adc80600c/sep/video/03f0c10f,3c92b1ee,72dd967d,baa52a12,dc8da88c/audio/215e51f2,a76ab1b8,fc94330d/master.json?base64_init=1\\u0026query_string_ranges=1\",\"origin\":\"gcs\",\"url\":\"https://125vod-adaptive.akamaized.net/exp=1689729214~acl=%2F93f45b6b-903b-4580-a096-d15adc80600c%2F%2A~hmac=0f6739ed064221771682395c678f34bea3e69c648b716cc12ea7a98700729dc8/93f45b6b-903b-4580-a096-d15adc80600c/sep/video/03f0c10f,3c92b1ee,72dd967d,baa52a12,dc8da88c/audio/215e51f2,a76ab1b8,fc94330d/master.json?base64_init=1\\u0026query_string_ranges=1\"},\"fastly_skyfire\":{\"avc_url\":\"https://skyfire.vimeocdn.com/1689729214-0xdb71906bc9f087cdacb390beaf26e7996616c437/93f45b6b-903b-4580-a096-d15adc80600c/sep/video/03f0c10f,3c92b1ee,72dd967d,baa52a12,dc8da88c/audio/215e51f2,a76ab1b8,fc94330d/master.json?base64_init=1\\u0026query_string_ranges=1\",\"origin\":\"gcs\",\"url\":\"https://skyfire.vimeocdn.com/1689729214-0xdb71906bc9f087cdacb390beaf26e7996616c437/93f45b6b-903b-4580-a096-d15adc80600c/sep/video/03f0c10f,3c92b1ee,72dd967d,baa52a12,dc8da88c/audio/215e51f2,a76ab1b8,fc94330d/master.json?base64_init=1\\u0026query_string_ranges=1\"},\"google_mediacdn\":{\"avc_url\":\"https://cme-media.vimeocdn.com/93f45b6b-903b-4580-a096-d15adc80600c/edge-cache-token=Expires=1689729214\\u0026KeyName=media-cdn-key\\u0026Signature=mFsOJKekpnT6JkGQbB3rrYuvkrqZWkrDGrba4YmOdOsNwJHvoFU6kryZwNpEFbFYclhG2BMQVOWS4Btd5PknDQ==/sep/video/03f0c10f,3c92b1ee,72dd967d,baa52a12,dc8da88c/audio/215e51f2,a76ab1b8,fc94330d/master.json?base64_init=1\\u0026query_string_ranges=1\",\"origin\":\"gcs\",\"url\":\"https://cme-media.vimeocdn.com/93f45b6b-903b-4580-a096-d15adc80600c/edge-cache-token=Expires=1689729214\\u0026KeyName=media-cdn-key\\u0026Signature=mFsOJKekpnT6JkGQbB3rrYuvkrqZWkrDGrba4YmOdOsNwJHvoFU6kryZwNpEFbFYclhG2BMQVOWS4Btd5PknDQ==/sep/video/03f0c10f,3c92b1ee,72dd967d,baa52a12,dc8da88c/audio/215e51f2,a76ab1b8,fc94330d/master.json?base64_init=1\\u0026query_string_ranges=1\"}},\"default_cdn\":\"akfire_interconnect_quic\",\"separate_av\":true,\"streams\":[{\"profile\":\"c3347cdf-6c91-4ab3-8d56-737128e7a65f\",\"id\":\"03f0c10f-5e1a-47cc-86c5-067746bcfdb5\",\"fps\":25,\"quality\":\"360p\"},{\"profile\":\"f3f6f5f0-2e6b-4e90-994e-842d1feeabc0\",\"id\":\"3c92b1ee-c84d-4b71-a574-87032a7248fa\",\"fps\":25,\"quality\":\"720p\"},{\"profile\":\"5ff7441f-4973-4241-8c2e-976ef4a572b0\",\"id\":\"72dd967d-5f87-4edd-8e7d-6267739da254\",\"fps\":25,\"quality\":\"1080p\"},{\"profile\":\"d0b41bac-2bf2-4310-8113-df764d486192\",\"id\":\"baa52a12-2efc-4557-b991-eb3a562fdc49\",\"fps\":25,\"quality\":\"240p\"},{\"profile\":\"f9e4a5d7-8043-4af3-b231-641ca735a130\",\"id\":\"dc8da88c-23d9-4aad-8246-e59f599e0b43\",\"fps\":25,\"quality\":\"540p\"}],\"streams_avc\":[{\"profile\":\"f9e4a5d7-8043-4af3-b231-641ca735a130\",\"id\":\"dc8da88c-23d9-4aad-8246-e59f599e0b43\",\"fps\":25,\"quality\":\"540p\"},{\"profile\":\"c3347cdf-6c91-4ab3-8d56-737128e7a65f\",\"id\":\"03f0c10f-5e1a-47cc-86c5-067746bcfdb5\",\"fps\":25,\"quality\":\"360p\"},{\"profile\":\"f3f6f5f0-2e6b-4e90-994e-842d1feeabc0\",\"id\":\"3c92b1ee-c84d-4b71-a574-87032a7248fa\",\"fps\":25,\"quality\":\"720p\"},{\"profile\":\"5ff7441f-4973-4241-8c2e-976ef4a572b0\",\"id\":\"72dd967d-5f87-4edd-8e7d-6267739da254\",\"fps\":25,\"quality\":\"1080p\"},{\"profile\":\"d0b41bac-2bf2-4310-8113-df764d486192\",\"id\":\"baa52a12-2efc-4557-b991-eb3a562fdc49\",\"fps\":25,\"quality\":\"240p\"}]},\"hls\":{\"captions\":\"https://125vod-adaptive.akamaized.net/exp=1689729214~acl=%2F93f45b6b-903b-4580-a096-d15adc80600c%2F%2A~hmac=0f6739ed064221771682395c678f34bea3e69c648b716cc12ea7a98700729dc8/93f45b6b-903b-4580-a096-d15adc80600c/sep/video/03f0c10f,3c92b1ee,72dd967d,baa52a12,dc8da88c/audio/215e51f2/subtitles/79504424-English%20%28auto-generated%29-en-x-autogen-cc/master.m3u8?external-subs=1\\u0026query_string_ranges=1\\u0026subcache=1\\u0026subtoken=2621da1ef21637d2680636ef791f1fb2dc6c23c5b96f4b4f9ee4820b829a32a8\",\"cdns\":{\"akfire_interconnect_quic\":{\"avc_url\":\"https://125vod-adaptive.akamaized.net/exp=1689729214~acl=%2F93f45b6b-903b-4580-a096-d15adc80600c%2F%2A~hmac=0f6739ed064221771682395c678f34bea3e69c648b716cc12ea7a98700729dc8/93f45b6b-903b-4580-a096-d15adc80600c/sep/video/03f0c10f,3c92b1ee,72dd967d,baa52a12,dc8da88c/audio/215e51f2/subtitles/79504424-English%20%28auto-generated%29-en-x-autogen-cc/master.m3u8?external-subs=1\\u0026query_string_ranges=1\\u0026subcache=1\\u0026subtoken=2621da1ef21637d2680636ef791f1fb2dc6c23c5b96f4b4f9ee4820b829a32a8\",\"captions\":\"https://125vod-adaptive.akamaized.net/exp=1689729214~acl=%2F93f45b6b-903b-4580-a096-d15adc80600c%2F%2A~hmac=0f6739ed064221771682395c678f34bea3e69c648b716cc12ea7a98700729dc8/93f45b6b-903b-4580-a096-d15adc80600c/sep/video/03f0c10f,3c92b1ee,72dd967d,baa52a12,dc8da88c/audio/215e51f2/subtitles/79504424-English%20%28auto-generated%29-en-x-autogen-cc/master.m3u8?external-subs=1\\u0026query_string_ranges=1\\u0026subcache=1\\u0026subtoken=2621da1ef21637d2680636ef791f1fb2dc6c23c5b96f4b4f9ee4820b829a32a8\",\"origin\":\"gcs\",\"url\":\"https://125vod-adaptive.akamaized.net/exp=1689729214~acl=%2F93f45b6b-903b-4580-a096-d15adc80600c%2F%2A~hmac=0f6739ed064221771682395c678f34bea3e69c648b716cc12ea7a98700729dc8/93f45b6b-903b-4580-a096-d15adc80600c/sep/video/03f0c10f,3c92b1ee,72dd967d,baa52a12,dc8da88c/audio/215e51f2/subtitles/79504424-English%20%28auto-generated%29-en-x-autogen-cc/master.m3u8?external-subs=1\\u0026query_string_ranges=1\\u0026subcache=1\\u0026subtoken=2621da1ef21637d2680636ef791f1fb2dc6c23c5b96f4b4f9ee4820b829a32a8\"},\"fastly_skyfire\":{\"avc_url\":\"https://skyfire.vimeocdn.com/1689729214-0xdb71906bc9f087cdacb390beaf26e7996616c437/93f45b6b-903b-4580-a096-d15adc80600c/sep/video/03f0c10f,3c92b1ee,72dd967d,baa52a12,dc8da88c/audio/215e51f2/subtitles/79504424-English%20%28auto-generated%29-en-x-autogen-cc/master.m3u8?external-subs=1\\u0026query_string_ranges=1\\u0026subcache=1\\u0026subtoken=2621da1ef21637d2680636ef791f1fb2dc6c23c5b96f4b4f9ee4820b829a32a8\",\"captions\":\"https://skyfire.vimeocdn.com/1689729214-0xdb71906bc9f087cdacb390beaf26e7996616c437/93f45b6b-903b-4580-a096-d15adc80600c/sep/video/03f0c10f,3c92b1ee,72dd967d,baa52a12,dc8da88c/audio/215e51f2/subtitles/79504424-English%20%28auto-generated%29-en-x-autogen-cc/master.m3u8?external-subs=1\\u0026query_string_ranges=1\\u0026subcache=1\\u0026subtoken=2621da1ef21637d2680636ef791f1fb2dc6c23c5b96f4b4f9ee4820b829a32a8\",\"origin\":\"gcs\",\"url\":\"https://skyfire.vimeocdn.com/1689729214-0xdb71906bc9f087cdacb390beaf26e7996616c437/93f45b6b-903b-4580-a096-d15adc80600c/sep/video/03f0c10f,3c92b1ee,72dd967d,baa52a12,dc8da88c/audio/215e51f2/subtitles/79504424-English%20%28auto-generated%29-en-x-autogen-cc/master.m3u8?external-subs=1\\u0026query_string_ranges=1\\u0026subcache=1\\u0026subtoken=2621da1ef21637d2680636ef791f1fb2dc6c23c5b96f4b4f9ee4820b829a32a8\"},\"google_mediacdn\":{\"avc_url\":\"https://cme-media.vimeocdn.com/93f45b6b-903b-4580-a096-d15adc80600c/edge-cache-token=Expires=1689729214\\u0026KeyName=media-cdn-key\\u0026Signature=mFsOJKekpnT6JkGQbB3rrYuvkrqZWkrDGrba4YmOdOsNwJHvoFU6kryZwNpEFbFYclhG2BMQVOWS4Btd5PknDQ==/sep/video/03f0c10f,3c92b1ee,72dd967d,baa52a12,dc8da88c/audio/215e51f2/subtitles/79504424-English%20%28auto-generated%29-en-x-autogen-cc/master.m3u8?external-subs=1\\u0026query_string_ranges=1\\u0026subcache=1\\u0026subtoken=8bcb789b188b9a9299f3315b5132b40cbf9a180225b1dfe64e8a5f93bc252ed1\",\"captions\":\"https://cme-media.vimeocdn.com/93f45b6b-903b-4580-a096-d15adc80600c/edge-cache-token=Expires=1689729214\\u0026KeyName=media-cdn-key\\u0026Signature=mFsOJKekpnT6JkGQbB3rrYuvkrqZWkrDGrba4YmOdOsNwJHvoFU6kryZwNpEFbFYclhG2BMQVOWS4Btd5PknDQ==/sep/video/03f0c10f,3c92b1ee,72dd967d,baa52a12,dc8da88c/audio/215e51f2/subtitles/79504424-English%20%28auto-generated%29-en-x-autogen-cc/master.m3u8?external-subs=1\\u0026query_string_ranges=1\\u0026subcache=1\\u0026subtoken=8bcb789b188b9a9299f3315b5132b40cbf9a180225b1dfe64e8a5f93bc252ed1\",\"origin\":\"gcs\",\"url\":\"https://cme-media.vimeocdn.com/93f45b6b-903b-4580-a096-d15adc80600c/edge-cache-token=Expires=1689729214\\u0026KeyName=media-cdn-key\\u0026Signature=mFsOJKekpnT6JkGQbB3rrYuvkrqZWkrDGrba4YmOdOsNwJHvoFU6kryZwNpEFbFYclhG2BMQVOWS4Btd5PknDQ==/sep/video/03f0c10f,3c92b1ee,72dd967d,baa52a12,dc8da88c/audio/215e51f2/subtitles/79504424-English%20%28auto-generated%29-en-x-autogen-cc/master.m3u8?external-subs=1\\u0026query_string_ranges=1\\u0026subcache=1\\u0026subtoken=8bcb789b188b9a9299f3315b5132b40cbf9a180225b1dfe64e8a5f93bc252ed1\"}},\"default_cdn\":\"akfire_interconnect_quic\",\"separate_av\":true},\"progressive\":[]},\"file_codecs\":{\"av1\":[],\"avc\":[\"dc8da88c-23d9-4aad-8246-e59f599e0b43\",\"03f0c10f-5e1a-47cc-86c5-067746bcfdb5\",\"3c92b1ee-c84d-4b71-a574-87032a7248fa\",\"72dd967d-5f87-4edd-8e7d-6267739da254\",\"baa52a12-2efc-4557-b991-eb3a562fdc49\"],\"hevc\":{\"dvh1\":[],\"hdr\":[],\"sdr\":[]}},\"lang\":\"pt-BR\",\"referrer\":\"https://portal.projetoos10porcento.com.br/\",\"cookie_domain\":\".vimeo.com\",\"signature\":\"4f197ba70a97870ff9a69df8fce354cf\",\"timestamp\":1689709830,\"expires\":19384,\"gc_debug\":{\"bucket\":\"vimeo-player-debug\"},\"text_tracks\":[{\"id\":79504424,\"lang\":\"en-x-autogen\",\"url\":\"/texttrack/79504424.vtt?token=64b738be_0x2aa300ab32c5ffa64f59bfddf6ebe0d61f271d01\",\"kind\":\"captions\",\"label\":\"English (auto-generated)\"}],\"thumb_preview\":{\"url\":\"https://videoapi-sprites.vimeocdn.com/video-sprites/image/5082951e-3399-443b-8b20-4e330e678a6c.0.jpeg?ClientID=player-backend-prod\\u0026Expires=1689712896\\u0026Signature=ef32e76adf83ab8ba35e67d2143fa047959c5eda\",\"height\":2640,\"width\":4686,\"frame_height\":240,\"frame_width\":426,\"columns\":11,\"frames\":120},\"currency\":\"BRL\",\"session\":\"3061642c3efdeb303c424f47c223cb2d1623c2ca1689709830\",\"cookie\":{\"volume\":1,\"quality\":null,\"scaling\":1,\"hd\":0,\"captions\":null,\"transcript\":null,\"captions_styles\":{\"color\":null,\"fontSize\":null,\"fontFamily\":null,\"fontOpacity\":null,\"bgOpacity\":null,\"windowColor\":null,\"windowOpacity\":null,\"bgColor\":null,\"edgeStyle\":null},\"audio_language\":null,\"audio_kind\":null},\"build\":{\"backend\":\"5880726\",\"js\":\"4.24.14\"},\"urls\":{\"fresnel\":\"https://fresnel.vimeocdn.com/add/player-stats\",\"barebone_js\":\"https://f.vimeocdn.com/p/4.24.14/js/barebone.js\",\"chromeless_js\":\"https://f.vimeocdn.com/p/4.24.14/js/chromeless.js\",\"ambisonics_js\":\"https://f.vimeocdn.com/p/external/ambisonics.min.js\",\"chromeless_css\":\"https://f.vimeocdn.com/p/4.24.14/css/chromeless.css\",\"css\":\"https://f.vimeocdn.com/p/4.24.14/css/player.css\",\"js\":\"https://f.vimeocdn.com/p/4.24.14/js/player.pt-BR.js\",\"proxy\":\"https://player.vimeo.com/static/proxy.html\",\"mux_url\":\"https://f.vimeocdn.com/p/external/mux.js\",\"hive_sdk\":\"https://f.vimeocdn.com/p/external/hive-sdk.js\",\"hive_interceptor\":\"https://f.vimeocdn.com/p/external/hive-interceptor.js\",\"three_js\":\"https://f.vimeocdn.com/p/external/three.rvimeo.min.js\",\"vuid_js\":\"https://f.vimeocdn.com/js_opt/modules/utils/vuid.min.js\",\"player_telemetry_url\":\"https://player-telemetry.vimeo.com/player-events\",\"fresnel_mimir_inputs_url\":\"https://fresnel-events.vimeocdn.com/add/mimir_inputs\",\"fresnel_manifest_url\":\"https://fresnel-events.vimeocdn.com/add/playback_manifest\",\"fresnel_chunk_url\":\"https://fresnel-events.vimeocdn.com/add/chunk_downloads\",\"test_imp\":\"https://fresnel.vimeocdn.com/add/player-test-impression\",\"js_module\":\"https://f.vimeocdn.com/p/4.24.14/js/player.pt-BR.module.js\",\"js_vendor_module\":\"https://f.vimeocdn.com/p/4.24.14/js/vendor.module.js\",\"js_base\":\"https://f.vimeocdn.com/p/4.24.14/js\",\"locales_js\":{\"de-DE\":\"https://f.vimeocdn.com/p/4.24.14/js/player.de-DE.js\",\"en\":\"https://f.vimeocdn.com/p/4.24.14/js/player.js\",\"es\":\"https://f.vimeocdn.com/p/4.24.14/js/player.es.js\",\"fr-FR\":\"https://f.vimeocdn.com/p/4.24.14/js/player.fr-FR.js\",\"ja-JP\":\"https://f.vimeocdn.com/p/4.24.14/js/player.ja-JP.js\",\"ko-KR\":\"https://f.vimeocdn.com/p/4.24.14/js/player.ko-KR.js\",\"pt-BR\":\"https://f.vimeocdn.com/p/4.24.14/js/player.pt-BR.js\",\"ru-RU\":\"https://f.vimeocdn.com/p/4.24.14/js/player.ru-RU.js\"}},\"flags\":{\"plays\":1,\"dnt\":0,\"autohide_controls\":0,\"interactive_markers\":0,\"preload_video\":\"metadata_on_hover\",\"transcript_toggle\":0,\"multiple_audio\":0},\"country\":\"BR\",\"client\":{\"ip\":\"200.80.109.156\"},\"ab_tests\":{}},\"player_url\":\"player.vimeo.com\",\"video\":{\"id\":808512122,\"title\":\"5 - Gerenciamento de Risco | Bolsa do Zero Março 2023\",\"width\":1920,\"height\":1080,\"duration\":4846,\"url\":\"\",\"share_url\":\"https://vimeo.com/808512122\",\"embed_code\":\"\\u003ciframe title=\\\"vimeo-player\\\" src=\\\"https://player.vimeo.com/video/808512122?h=86542e7847\\\" width=\\\"640\\\" height=\\\"360\\\" frameborder=\\\"0\\\"    allowfullscreen\\u003e\\u003c/iframe\\u003e\",\"hd\":1,\"allow_hd\":1,\"default_to_hd\":0,\"privacy\":\"disable\",\"embed_permission\":\"whitelist\",\"thumbs\":{\"1280\":\"https://i.vimeocdn.com/video/1633133916-d31e3ec2b5bd5bdb62ab40fcc01f1761dbb1343ca8e6215b6cb36c55e24e6ae7-d_1280\",\"640\":\"https://i.vimeocdn.com/video/1633133916-d31e3ec2b5bd5bdb62ab40fcc01f1761dbb1343ca8e6215b6cb36c55e24e6ae7-d_640\",\"960\":\"https://i.vimeocdn.com/video/1633133916-d31e3ec2b5bd5bdb62ab40fcc01f1761dbb1343ca8e6215b6cb36c55e24e6ae7-d_960\",\"base\":\"https://i.vimeocdn.com/video/1633133916-d31e3ec2b5bd5bdb62ab40fcc01f1761dbb1343ca8e6215b6cb36c55e24e6ae7-d\"},\"lang\":null,\"owner\":{\"id\":88064406,\"name\":\"Andre Machado Oficial\",\"img\":\"https://i.vimeocdn.com/portrait/26772161_60x60\",\"img_2x\":\"https://i.vimeocdn.com/portrait/26772161_60x60\",\"url\":\"https://vimeo.com/projeto10\",\"account_type\":\"custom\"},\"spatial\":0,\"live_event\":null,\"version\":{\"current\":null,\"available\":[{\"id\":533389450,\"file_id\":3571368026,\"is_current\":true}]},\"unlisted_hash\":null,\"rating\":{\"id\":3},\"fps\":25,\"channel_layout\":\"mono\"},\"user\":{\"id\":0,\"team_id\":0,\"team_origin_user_id\":0,\"account_type\":\"none\",\"liked\":0,\"watch_later\":0,\"owner\":0,\"mod\":0,\"logged_in\":0,\"private_mode_enabled\":0,\"vimeo_api_client_token\":null,\"vimeo_api_interaction_tokens\":null},\"view\":1,\"vimeo_url\":\"vimeo.com\",\"embed\":{\"autoplay\":0,\"autopause\":1,\"dnt\":0,\"editor\":0,\"keyboard\":1,\"log_plays\":1,\"loop\":1,\"muted\":0,\"on_site\":0,\"texttrack\":\"\",\"time\":0,\"transparent\":1,\"outro\":\"beginning\",\"playsinline\":1,\"quality\":null,\"player_id\":\"\",\"api\":null,\"app_id\":\"\",\"color\":\"00adef\",\"color_one\":\"000000\",\"color_two\":\"00adef\",\"color_three\":\"ffffff\",\"color_four\":\"000000\",\"context\":\"embed.main\",\"settings\":{\"auto_pip\":1,\"badge\":0,\"byline\":0,\"collections\":0,\"color\":0,\"force_color_one\":0,\"force_color_two\":0,\"force_color_three\":0,\"force_color_four\":0,\"embed\":0,\"fullscreen\":1,\"like\":0,\"logo\":0,\"playbar\":1,\"portrait\":0,\"pip\":1,\"scaling\":1,\"share\":0,\"spatial_compass\":0,\"spatial_label\":0,\"speed\":1,\"title\":0,\"volume\":1,\"watch_later\":0,\"controls\":1}},\"seo\":{\"description\":\"\",\"upload_date\":\"2023-03-15 19:40:44\",\"embed_url\":\"https://player.vimeo.com/video/808512122?h=86542e7847\",\"thumbnail\":\"https://i.vimeocdn.com/video/1633133916-d31e3ec2b5bd5bdb62ab40fcc01f1761dbb1343ca8e6215b6cb36c55e24e6ae7-d_640\",\"canonical_url\":\"https://player.vimeo.com/video/808512122\"}}</script>"
   ]
  },
  {
   "cell_type": "code",
   "execution_count": null,
   "id": "7d86f38f",
   "metadata": {},
   "outputs": [],
   "source": []
  }
 ],
 "metadata": {
  "kernelspec": {
   "display_name": "Python 3 (ipykernel)",
   "language": "python",
   "name": "python3"
  },
  "language_info": {
   "codemirror_mode": {
    "name": "ipython",
    "version": 3
   },
   "file_extension": ".py",
   "mimetype": "text/x-python",
   "name": "python",
   "nbconvert_exporter": "python",
   "pygments_lexer": "ipython3",
   "version": "3.8.0rc1"
  }
 },
 "nbformat": 4,
 "nbformat_minor": 5
}
