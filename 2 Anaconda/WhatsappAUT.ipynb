{
 "cells": [
  {
   "cell_type": "code",
   "execution_count": 43,
   "id": "34f8a2c7",
   "metadata": {},
   "outputs": [],
   "source": [
    "import pyautogui as py\n",
    "from time import sleep\n",
    "\n",
    "tempo1 = 2\n",
    "tempo2 = 7\n",
    "\n",
    "def alternar():\n",
    "    py.keyDown('alt')\n",
    "    py.press('tab')\n",
    "    py.keyUp('alt')"
   ]
  },
  {
   "cell_type": "code",
   "execution_count": 45,
   "id": "da400ffc",
   "metadata": {},
   "outputs": [],
   "source": [
    "#Abrir navegador \n",
    "py.click(152,746) \n",
    "sleep(tempo2)\n",
    "\n",
    "#digitar WhatsappWeb \n",
    "py.click(319,64) \n",
    "sleep(tempo1) \n",
    "py.typewrite('https://web.whatsapp.com\\n') \n",
    "sleep(35)"
   ]
  },
  {
   "cell_type": "code",
   "execution_count": 48,
   "id": "96244271",
   "metadata": {},
   "outputs": [],
   "source": [
    "import pyperclip as pc\n",
    "import random\n",
    "\n",
    "x = random.randint(1,3)\n",
    "\n",
    "alternar()\n",
    "\n",
    "def familiaIrmas():\n",
    "    irmasFamilia = ['sheila vianna','shirley vianna','shai vianna']\n",
    "    msgFamilia1 = 'E aí meu bem? Tudo bem?'\n",
    "    msgFamilia2 = 'E aí amore? Tudo certo por aí?'\n",
    "    msgFamilia3 = 'E aí meu amor? Tudo bem contigo?'\n",
    "    if x == 1:\n",
    "        pc.copy(msgFamilia1)\n",
    "    if x == 2:\n",
    "        pc.copy(msgFamilia2)\n",
    "    if x == 3:\n",
    "        pc.copy(msgFamilia3)\n",
    "    #print(x)\n",
    "    for item in irmasFamilia:\n",
    "        py.click(80,274)\n",
    "        py.typewrite(item,interval=0.3) \n",
    "        py.press('enter') \n",
    "        sleep(tempo1) \n",
    "        py.hotkey('ctrl','v')\n",
    "        sleep(2)\n",
    "        #py.press('enter')\n",
    "        \n",
    "        \n",
    "def jussa():\n",
    "    msgJussa1 = 'E aí mama? Tudo bem?'\n",
    "    msgJussa2 = 'Bom dia mainha? Como vão as coisas por aí?'\n",
    "    msgJussa3 = 'Bom dia Jussi. Já acordou? Tudo bem?'\n",
    "\n",
    "    if x == 1:\n",
    "        pc.copy(msgJussa1)\n",
    "    if x == 2:\n",
    "        pc.copy(msgJussa2)\n",
    "    if x == 3:\n",
    "        pc.copy(msgJussa3)\n",
    "    #print(x)\n",
    "    py.click(80,274)\n",
    "    py.typewrite('Jussa',interval=0.3) \n",
    "    py.press('enter') \n",
    "    sleep(tempo1) \n",
    "    py.hotkey('ctrl','v')\n",
    "    sleep(2)\n",
    "    #py.press('enter')        \n",
    "        \n",
    "        \n",
    "#familiaIrmas()\n",
    "jussa()"
   ]
  },
  {
   "cell_type": "code",
   "execution_count": null,
   "id": "67084d62",
   "metadata": {},
   "outputs": [],
   "source": [
    "#Escolher Contatos \n",
    "for item in grupo2: \n",
    "    py.click(80,274) \n",
    "    py.typewrite(item,interval=0.3)\n",
    "    py.press('enter') \n",
    "    sleep(tempo1) \n",
    "    py.typewrite(mensagem1,interval=0.3)\n",
    "    py.press('enter')\n",
    "py.click(1340,8)\n",
    "py.press('enter')"
   ]
  },
  {
   "cell_type": "code",
   "execution_count": null,
   "id": "a857b1ee",
   "metadata": {},
   "outputs": [],
   "source": [
    "posicao = py.position()\n",
    "print(posicao)"
   ]
  },
  {
   "cell_type": "code",
   "execution_count": null,
   "id": "d3910db9",
   "metadata": {},
   "outputs": [],
   "source": []
  }
 ],
 "metadata": {
  "kernelspec": {
   "display_name": "Python 3",
   "language": "python",
   "name": "python3"
  },
  "language_info": {
   "codemirror_mode": {
    "name": "ipython",
    "version": 3
   },
   "file_extension": ".py",
   "mimetype": "text/x-python",
   "name": "python",
   "nbconvert_exporter": "python",
   "pygments_lexer": "ipython3",
   "version": "3.8.8"
  }
 },
 "nbformat": 4,
 "nbformat_minor": 5
}
