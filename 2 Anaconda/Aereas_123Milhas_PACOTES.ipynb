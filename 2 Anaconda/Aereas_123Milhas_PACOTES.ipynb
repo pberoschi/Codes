{
 "cells": [
  {
   "cell_type": "code",
   "execution_count": 14,
   "id": "8b243ccb",
   "metadata": {
    "scrolled": true
   },
   "outputs": [],
   "source": [
    "import requests\n",
    "import pandas as pd\n",
    "import telepot\n",
    "from bs4 import BeautifulSoup\n",
    "from selenium import webdriver\n",
    "from time import sleep\n",
    "from selenium.webdriver.chrome.options import Options\n",
    "\n",
    "url = 'https://pacotes.123milhas.com/'\n",
    "\n",
    "option = Options()\n",
    "option.headless = True\n",
    "driver = webdriver.Chrome(options=option)     # NAVEGADOR OFF\n",
    "#driver = webdriver.Chrome()                  # NAVEGADOR ON\n",
    "driver.get(url)\n",
    "html = driver.page_source\n",
    "soup = BeautifulSoup(html, 'html.parser')\n",
    "\n",
    "#matriz = soup.find('div',{'class':'container'})\n",
    "matriz = soup.find_all('li',{'class':'product-wrap'})\n",
    "\n",
    "driver.close()\n",
    "\n",
    "for item in matriz:\n",
    "    destino = item.find('h5').text\n",
    "    destino = destino[13:]\n",
    "    titulo = item.find('a')['href']\n",
    "    preco = item.find('h4').text\n",
    "    resumo = (f'{destino} ({preco})\\n{titulo}\\n')\n",
    "\n",
    "    print(resumo)\n",
    "        \n",
    "    #bot = telepot.Bot('1591788137:AAFXANf-i5DYCCFJMuEe5cCjP1X7-I1WwPM')\n",
    "    #bot.sendMessage(984798692, resumo)"
   ]
  },
  {
   "cell_type": "code",
   "execution_count": null,
   "id": "6650b670",
   "metadata": {},
   "outputs": [],
   "source": []
  }
 ],
 "metadata": {
  "kernelspec": {
   "display_name": "Python 3",
   "language": "python",
   "name": "python3"
  },
  "language_info": {
   "codemirror_mode": {
    "name": "ipython",
    "version": 3
   },
   "file_extension": ".py",
   "mimetype": "text/x-python",
   "name": "python",
   "nbconvert_exporter": "python",
   "pygments_lexer": "ipython3",
   "version": "3.8.8"
  }
 },
 "nbformat": 4,
 "nbformat_minor": 5
}
