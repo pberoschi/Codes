{
 "cells": [
  {
   "cell_type": "code",
   "execution_count": 1,
   "id": "ab350fb5",
   "metadata": {},
   "outputs": [],
   "source": [
    "import pyautogui as py\n",
    "from time import sleep\n",
    "from bs4 import BeautifulSoup\n",
    "import requests\n",
    "from selenium.webdriver.chrome.options import Options\n",
    "from selenium import webdriver\n",
    "import pyperclip as pc\n",
    "\n",
    "# TEXTO DO DIA\n",
    "url = 'https://wol.jw.org/pt/wol/h/r5/lp-t'\n",
    "\n",
    "option = Options()\n",
    "option.headless = True\n",
    "#driver = webdriver.Chrome(options=option)   # NAVEGADOR OFF\n",
    "driver = webdriver.Chrome()                  # NAVEGADOR ON\n",
    "driver.get(url)\n",
    "\n",
    "textocompl = driver.find_element_by_xpath('//*[@id=\"dailyText\"]/div[2]').text[0:300] \n",
    "driver.quit()\n",
    "#print('Finalizado')\n"
   ]
  },
  {
   "cell_type": "code",
   "execution_count": null,
   "id": "b1f7e380",
   "metadata": {},
   "outputs": [],
   "source": [
    "#Abrir navegador \n",
    "py.click(152,746) \n",
    "sleep(3)\n",
    "\n",
    "#digitar WhatsappWeb \n",
    "py.click(319,64) \n",
    "sleep(3) \n",
    "py.typewrite('https://web.whatsapp.com\\n') \n",
    "sleep(35)"
   ]
  },
  {
   "cell_type": "code",
   "execution_count": null,
   "id": "55642b2e",
   "metadata": {},
   "outputs": [],
   "source": [
    "alternar()\n",
    "pc.copy(textocompl)\n",
    "py.click(80,274)\n",
    "py.typewrite('arquivos\\n',interval=0.3) \n",
    "#py.press('enter') \n",
    "sleep(3) \n",
    "py.typewrite('>>> *_TEXTO DO DIA_* <<<\\n', interval=0.3)\n",
    "sleep(2)\n",
    "py.hotkey('ctrl','v')\n",
    "sleep(1)\n",
    "py.press('enter')\n",
    "sleep(1)\n",
    "py.typewrite('_Para continuar, clique abaixo e leia diretamente no site_ https://wol.jw.org/pt/wol/h/r5/lp-t\\n', interval=0.3)\n",
    "#py.press('enter')"
   ]
  },
  {
   "cell_type": "code",
   "execution_count": null,
   "id": "1f99650a",
   "metadata": {},
   "outputs": [],
   "source": []
  },
  {
   "cell_type": "code",
   "execution_count": null,
   "id": "dae12f8d",
   "metadata": {},
   "outputs": [],
   "source": [
    "def alternar():\n",
    "    py.keyDown('alt')\n",
    "    py.press('tab')\n",
    "    py.keyUp('alt')"
   ]
  },
  {
   "cell_type": "code",
   "execution_count": null,
   "id": "d487fcc3",
   "metadata": {},
   "outputs": [],
   "source": []
  }
 ],
 "metadata": {
  "kernelspec": {
   "display_name": "Python 3",
   "language": "python",
   "name": "python3"
  },
  "language_info": {
   "codemirror_mode": {
    "name": "ipython",
    "version": 3
   },
   "file_extension": ".py",
   "mimetype": "text/x-python",
   "name": "python",
   "nbconvert_exporter": "python",
   "pygments_lexer": "ipython3",
   "version": "3.8.8"
  }
 },
 "nbformat": 4,
 "nbformat_minor": 5
}
