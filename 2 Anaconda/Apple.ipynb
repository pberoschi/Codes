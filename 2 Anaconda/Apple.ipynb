{
 "cells": [
  {
   "cell_type": "code",
   "execution_count": 1,
   "id": "ab39adda",
   "metadata": {},
   "outputs": [
    {
     "ename": "ModuleNotFoundError",
     "evalue": "No module named 'pandas'",
     "output_type": "error",
     "traceback": [
      "\u001b[1;31m---------------------------------------------------------------------------\u001b[0m",
      "\u001b[1;31mModuleNotFoundError\u001b[0m                       Traceback (most recent call last)",
      "Cell \u001b[1;32mIn[1], line 2\u001b[0m\n\u001b[0;32m      1\u001b[0m \u001b[38;5;28;01mimport\u001b[39;00m \u001b[38;5;21;01mrequests\u001b[39;00m\n\u001b[1;32m----> 2\u001b[0m \u001b[38;5;28;01mimport\u001b[39;00m \u001b[38;5;21;01mpandas\u001b[39;00m \u001b[38;5;28;01mas\u001b[39;00m \u001b[38;5;21;01mpd\u001b[39;00m\n\u001b[0;32m      3\u001b[0m \u001b[38;5;28;01mfrom\u001b[39;00m \u001b[38;5;21;01mbs4\u001b[39;00m \u001b[38;5;28;01mimport\u001b[39;00m BeautifulSoup\n\u001b[0;32m      4\u001b[0m \u001b[38;5;28;01mfrom\u001b[39;00m \u001b[38;5;21;01mtime\u001b[39;00m \u001b[38;5;28;01mimport\u001b[39;00m sleep\n",
      "\u001b[1;31mModuleNotFoundError\u001b[0m: No module named 'pandas'"
     ]
    }
   ],
   "source": [
    "import requests\n",
    "import pandas as pd\n",
    "from bs4 import BeautifulSoup\n",
    "from time import sleep\n",
    "from selenium import webdriver\n",
    "from selenium.webdriver.chrome.options import Options\n",
    "\n",
    "urldolar = 'https://www.google.com/search?q=cota%C3%A7%C3%A3o+dolar&sxsrf=AOaemvL1XSAfg9Jh0kxrWyQcjrSyGO9nDQ%3A1633109871240&source=hp&ei=b0dXYcTWC4vJ5OUP39Cf-Ag&iflsig=ALs-wAMAAAAAYVdVfyGPXoe3GKL6__Pc_utTyRFKSfkS&oq=cota%C3%A7%C3%A3o+dolar&gs_lcp=Cgdnd3Mtd2l6EAMYATIECCMQJzILCAAQgAQQsQMQgwEyCwgAEIAEELEDEIMBMgsIABCABBCxAxCDATILCAAQgAQQsQMQgwEyCAgAEIAEELEDMgUIABCABDIICAAQgAQQsQMyCwgAEIAEELEDEIMBMgUIABCABDoOCC4QgAQQsQMQxwEQowI6CwguEIAEEMcBEKMCOhEILhCABBCxAxCDARDHARCjAjoECAAQQzoICAAQsQMQgwFQ0gxYwRFg4yNoAHAAeACAAcQBiAHfBZIBAzAuNJgBAKABAQ&sclient=gws-wiz'\n",
    "\n",
    "option = Options()\n",
    "option.headless = True\n",
    "driver = webdriver.Chrome(options=option)     # NAVEGADOR OFF\n",
    "#driver = webdriver.Chrome()                  # NAVEGADOR ON\n",
    "driver.get(urldolar)\n",
    "html = driver.page_source\n",
    "soup = BeautifulSoup(html, 'html.parser')\n",
    "cotacao = soup.find('span',{'class':'DFlfde SwHCTb'}).text\n",
    "#print(cotacao)\n",
    "print('Dados Obtidos')\n",
    "\n",
    "z = cotacao.replace(',','.')\n",
    "cotacao = float(z)\n",
    "\n",
    "driver.close()"
   ]
  },
  {
   "cell_type": "code",
   "execution_count": 2,
   "id": "bc4a33ce",
   "metadata": {},
   "outputs": [],
   "source": [
    "url = 'https://www.apple.com/shop/refurbished/iphone'\n",
    "\n",
    "option = Options()\n",
    "option.headless = True\n",
    "#driver = webdriver.Chrome(options=option)   # NAVEGADOR OFF\n",
    "driver = webdriver.Chrome()                  # NAVEGADOR ON\n",
    "driver.get(url)\n",
    "html = driver.page_source\n",
    "soup = BeautifulSoup(html, 'html.parser')"
   ]
  },
  {
   "cell_type": "code",
   "execution_count": 3,
   "id": "46fc241e",
   "metadata": {
    "scrolled": false
   },
   "outputs": [
    {
     "name": "stdout",
     "output_type": "stream",
     "text": [
      "Refurbished iPhone 11 Pro 512GB - Silver (Unlocked)\n",
      "Dólar: $919.0(R$ 4558)\n",
      "Economia: $280.0 (R$ 1389)\n",
      "------------------------------\n",
      "Refurbished iPhone 11 Pro 512GB - Space Gray (Unlocked)\n",
      "Dólar: $919.0(R$ 4558)\n",
      "Economia: $280.0 (R$ 1389)\n",
      "------------------------------\n"
     ]
    }
   ],
   "source": [
    "#cotacao = '{:.2f}'.format(cotacao)\n",
    " \n",
    "matriz = soup.find_all('ul',{'class':'as-gridpage-producttiles as-producttiles pinwheel'})\n",
    "\n",
    "for item in soup.find_all('li',{'class':'as-producttile as-util-relatedlink'}):\n",
    "    phone = item.find('a',{'class':'as-producttile-tilelink'}).text\n",
    "    preco = item.find('div',{'class':'as-price-currentprice as-producttile-currentprice'}).text\n",
    "    economia = item.find('span',{'class':'as-producttile-savingsprice'}).text.strip()\n",
    "    \n",
    "    #preco = str(preco)\n",
    "    preco = preco.strip('$')\n",
    "    preco = float(preco)\n",
    "    \n",
    "    economia = economia.strip('Save $')\n",
    "    economia = float(economia)\n",
    "                  \n",
    "    conversaoMain = (round(preco * cotacao))\n",
    "    conversaoEcon = (round(economia * cotacao))\n",
    "    \n",
    "    print(phone)\n",
    "    print(f'Dólar: ${preco}(R$ {conversaoMain})')\n",
    "    print(F'Economia: ${economia} (R$ {conversaoEcon})')\n",
    "    print('-'*30)"
   ]
  },
  {
   "cell_type": "code",
   "execution_count": 4,
   "id": "de683d54",
   "metadata": {
    "scrolled": false
   },
   "outputs": [
    {
     "name": "stdout",
     "output_type": "stream",
     "text": [
      "<class 'float'>\n",
      "<class 'float'>\n"
     ]
    }
   ],
   "source": [
    "print(type(cotacao))\n",
    "print(type(preco))"
   ]
  },
  {
   "cell_type": "code",
   "execution_count": null,
   "id": "c06c543a",
   "metadata": {
    "scrolled": true
   },
   "outputs": [],
   "source": []
  },
  {
   "cell_type": "code",
   "execution_count": null,
   "id": "47fc2224",
   "metadata": {},
   "outputs": [],
   "source": []
  }
 ],
 "metadata": {
  "kernelspec": {
   "display_name": "Python 3 (ipykernel)",
   "language": "python",
   "name": "python3"
  },
  "language_info": {
   "codemirror_mode": {
    "name": "ipython",
    "version": 3
   },
   "file_extension": ".py",
   "mimetype": "text/x-python",
   "name": "python",
   "nbconvert_exporter": "python",
   "pygments_lexer": "ipython3",
   "version": "3.8.0"
  }
 },
 "nbformat": 4,
 "nbformat_minor": 5
}
