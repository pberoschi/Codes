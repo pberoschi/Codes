{
 "cells": [
  {
   "cell_type": "code",
   "execution_count": 11,
   "id": "34d63fde",
   "metadata": {},
   "outputs": [],
   "source": [
    "import cv2\n",
    "#captura = cv2.VideoCapture(0)\n",
    "#video = cv2.VideoCapture('rtsp://admin:@192.168.1.105:554/Streaming/Channels/401')\n",
    "captura = cv2.VideoCapture(0, cv2.CAP_DSHOW) #notebook win7\n",
    "\n",
    "\n",
    "while(1):\n",
    "    ret, frame = captura.read()\n",
    "    cv2.imshow(\"Video\", frame)\n",
    "   \n",
    "    k = cv2.waitKey(30) & 0xff\n",
    "    if k == 27:\n",
    "        break\n",
    "\n",
    "captura.release()\n",
    "cv2.destroyAllWindows()"
   ]
  },
  {
   "cell_type": "code",
   "execution_count": null,
   "id": "1b6293ac",
   "metadata": {},
   "outputs": [],
   "source": []
  },
  {
   "cell_type": "code",
   "execution_count": null,
   "id": "c0527f16",
   "metadata": {},
   "outputs": [],
   "source": []
  }
 ],
 "metadata": {
  "kernelspec": {
   "display_name": "Python 3",
   "language": "python",
   "name": "python3"
  },
  "language_info": {
   "codemirror_mode": {
    "name": "ipython",
    "version": 3
   },
   "file_extension": ".py",
   "mimetype": "text/x-python",
   "name": "python",
   "nbconvert_exporter": "python",
   "pygments_lexer": "ipython3",
   "version": "3.8.8"
  }
 },
 "nbformat": 4,
 "nbformat_minor": 5
}
