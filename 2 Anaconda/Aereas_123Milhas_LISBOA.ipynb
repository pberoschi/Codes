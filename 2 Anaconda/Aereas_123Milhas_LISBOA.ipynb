{
 "cells": [
  {
   "cell_type": "code",
   "execution_count": 11,
   "id": "8b243ccb",
   "metadata": {
    "scrolled": true
   },
   "outputs": [
    {
     "name": "stdout",
     "output_type": "stream",
     "text": [
      "1\n",
      "Valor Desconto: R$ 1.504,00\n",
      "\n",
      "2\n",
      "Valor Desconto: R$ 1.504,00\n",
      "\n",
      "3\n",
      "Valor Desconto: R$ 1.504,00\n",
      "\n",
      "4\n",
      "Valor Desconto: R$ 5.380,00\n",
      "\n",
      "5\n",
      "Valor Desconto: R$ 3.041,00\n",
      "\n",
      "6\n",
      "Valor Desconto: R$ 2.852,00\n",
      "\n",
      "7\n",
      "Valor Desconto: R$ 2.203,00\n",
      "\n",
      "8\n",
      "Valor Desconto: R$ 3.469,00\n",
      "\n",
      "9\n",
      "Valor Desconto: R$ 1.755,00\n",
      "\n",
      "10\n",
      "Valor Desconto: R$ 1.625,00\n",
      "\n",
      "11\n",
      "Valor Desconto: R$ 3.643,00\n",
      "\n",
      "12\n",
      "Valor Desconto: R$ 1.504,00\n",
      "\n"
     ]
    }
   ],
   "source": [
    "import requests\n",
    "from bs4 import BeautifulSoup\n",
    "import pandas as pd\n",
    "from selenium import webdriver\n",
    "from time import sleep\n",
    "from selenium.webdriver.chrome.options import Options\n",
    "\n",
    "%config IPCompleter.greedy=True\n",
    "\n",
    "tempoBusca = 15\n",
    "\n",
    "option = Options()\n",
    "option.headless = True\n",
    "\n",
    "navegador = webdriver.Firefox()                       #NAVEGADOR ON\n",
    "#navegador = webdriver.Chrome(options=option)          #NAVEGADOR OFF\n",
    "\n",
    "#navegador = webdriver.Chrome()                       #NAVEGADOR ON\n",
    "#navegador = webdriver.Chrome(options=option)          #NAVEGADOR OFF\n",
    "\n",
    "navegador.get('https://pacotes.123milhas.com/produto/voos-para-lisboa-passagem-aerea/?utm_source=CrossSell+-+Banner&utm_medium=site&utm_campaign=CrossSell+PROMO+-+Banner+Destaque+Pesquisa+Voo&attribute_pa_origem=&attribute_pa_origem=sao-paulo&_gl=1*12ichey*_ga*MTQ1NDAzMTM3Mi4xNjU3ODkwNDMz*_ga_GB7T6W6M2F*MTY1Nzg5MDQzMy4xLjEuMTY1Nzg5MDU2NS42MA..')\n",
    "sleep(5)\n",
    "\n",
    "for x in range(1,14):\n",
    "    # >>>>> Origem: São Paulo\n",
    "    #navegador.find_element_by_xpath('/html/body/div[1]/main/div/div/div[2]/div/section[6]/div[2]/div/div/section/div/div[3]/div/div[2]/div/form/table/tbody/tr[1]/td[2]/div/select/option[7]').click()\n",
    "    sleep(5)\n",
    "    # >>>>> Período (data)\n",
    "    navegador.find_element_by_xpath(f'/html/body/div[1]/main/div/div/div[2]/div/section[6]/div[2]/div/div/section/div/div[3]/div/div[2]/div/form/table/tbody/tr[2]/td[2]/div/select/option[{x}]').click()\n",
    "    sleep(5)\n",
    "\n",
    "    tabela = navegador.find_element_by_xpath('//*[@id=\"product-91328\"]/div/section[6]/div[2]/div/div/section/div/div[3]/div/div[2]')\n",
    "    html_content = tabela.get_attribute('outerHTML')\n",
    "    soup = BeautifulSoup(html_content, 'html.parser')\n",
    "    table = soup.find(name='table')\n",
    "\n",
    "    preco = soup.find('span',{'class':'price'})\n",
    "    if preco:\n",
    "        preco = preco.text.split()\n",
    "        precoCheio = preco[1]\n",
    "        precoDesc = preco[3]\n",
    "        \n",
    "        print(x)\n",
    "        #print(f'Valor Real: R$ {precoCheio}')\n",
    "        print(f'Valor Desconto: R$ {precoDesc}\\n')\n",
    "    else:\n",
    "        print('')\n",
    "\n",
    "#navegador.close()"
   ]
  },
  {
   "cell_type": "code",
   "execution_count": null,
   "id": "0a19a2bf",
   "metadata": {},
   "outputs": [],
   "source": []
  }
 ],
 "metadata": {
  "kernelspec": {
   "display_name": "Python 3",
   "language": "python",
   "name": "python3"
  },
  "language_info": {
   "codemirror_mode": {
    "name": "ipython",
    "version": 3
   },
   "file_extension": ".py",
   "mimetype": "text/x-python",
   "name": "python",
   "nbconvert_exporter": "python",
   "pygments_lexer": "ipython3",
   "version": "3.8.8"
  }
 },
 "nbformat": 4,
 "nbformat_minor": 5
}
